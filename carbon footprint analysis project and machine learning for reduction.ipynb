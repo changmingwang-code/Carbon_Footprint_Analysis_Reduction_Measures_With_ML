{
 "cells": [
  {
   "cell_type": "code",
   "execution_count": null,
   "id": "4affd939",
   "metadata": {},
   "outputs": [],
   "source": []
  },
  {
   "cell_type": "markdown",
   "id": "b29da9c1",
   "metadata": {},
   "source": [
    "## Load The Dataset"
   ]
  },
  {
   "cell_type": "code",
   "execution_count": 1,
   "id": "ffe8f9f4",
   "metadata": {},
   "outputs": [],
   "source": [
    "# import necessary libraries\n",
    "import pandas as pd"
   ]
  },
  {
   "cell_type": "code",
   "execution_count": 2,
   "id": "0dc6f343",
   "metadata": {},
   "outputs": [],
   "source": [
    "# Load the dataset from the CSV file\n",
    "file_name = 'uncleaned_carbon_footprint_dataset.csv'\n",
    "df = pd.read_csv(file_name)"
   ]
  },
  {
   "cell_type": "markdown",
   "id": "edbfe23a",
   "metadata": {},
   "source": [
    "## Data processing and Cleaning"
   ]
  },
  {
   "cell_type": "markdown",
   "id": "f57c7f1a",
   "metadata": {},
   "source": [
    "### In the processing and cleaning we have checked for miising values, duplicates, year column to datetime format for better handling of time related data, and round the numerical columns to two decimal places to ensure uniformity in the data. Finally we saved our cleaned dataset."
   ]
  },
  {
   "cell_type": "code",
   "execution_count": 3,
   "id": "9e6b934d",
   "metadata": {},
   "outputs": [
    {
     "name": "stdout",
     "output_type": "stream",
     "text": [
      "Missing Values:\n",
      "Company                    0\n",
      "Year                       0\n",
      "Scope1_Emissions           0\n",
      "Scope2_Emissions           0\n",
      "Scope3_Emissions           0\n",
      "Energy_Consumption         0\n",
      "Production_Volume          0\n",
      "Transportation_Distance    0\n",
      "Waste_Generated            0\n",
      "Revenue                    0\n",
      "dtype: int64\n"
     ]
    }
   ],
   "source": [
    "# Check for missing values\n",
    "missing_values = df.isnull().sum()\n",
    "print(\"Missing Values:\")\n",
    "print(missing_values)"
   ]
  },
  {
   "cell_type": "code",
   "execution_count": 4,
   "id": "f73ef14b",
   "metadata": {},
   "outputs": [
    {
     "data": {
      "text/html": [
       "<div>\n",
       "<style scoped>\n",
       "    .dataframe tbody tr th:only-of-type {\n",
       "        vertical-align: middle;\n",
       "    }\n",
       "\n",
       "    .dataframe tbody tr th {\n",
       "        vertical-align: top;\n",
       "    }\n",
       "\n",
       "    .dataframe thead th {\n",
       "        text-align: right;\n",
       "    }\n",
       "</style>\n",
       "<table border=\"1\" class=\"dataframe\">\n",
       "  <thead>\n",
       "    <tr style=\"text-align: right;\">\n",
       "      <th></th>\n",
       "      <th>Company</th>\n",
       "      <th>Year</th>\n",
       "      <th>Scope1_Emissions</th>\n",
       "      <th>Scope2_Emissions</th>\n",
       "      <th>Scope3_Emissions</th>\n",
       "      <th>Energy_Consumption</th>\n",
       "      <th>Production_Volume</th>\n",
       "      <th>Transportation_Distance</th>\n",
       "      <th>Waste_Generated</th>\n",
       "      <th>Revenue</th>\n",
       "    </tr>\n",
       "  </thead>\n",
       "  <tbody>\n",
       "    <tr>\n",
       "      <th>0</th>\n",
       "      <td>Company 1</td>\n",
       "      <td>2020</td>\n",
       "      <td>3184.292148</td>\n",
       "      <td>2680.241144</td>\n",
       "      <td>1568.606594</td>\n",
       "      <td>75017.702584</td>\n",
       "      <td>612</td>\n",
       "      <td>3482.905977</td>\n",
       "      <td>737.070146</td>\n",
       "      <td>5.993909e+06</td>\n",
       "    </tr>\n",
       "    <tr>\n",
       "      <th>1</th>\n",
       "      <td>Company 2</td>\n",
       "      <td>2016</td>\n",
       "      <td>5631.347873</td>\n",
       "      <td>4208.203523</td>\n",
       "      <td>1957.773577</td>\n",
       "      <td>31688.090737</td>\n",
       "      <td>955</td>\n",
       "      <td>3939.705150</td>\n",
       "      <td>719.958769</td>\n",
       "      <td>2.124183e+06</td>\n",
       "    </tr>\n",
       "    <tr>\n",
       "      <th>2</th>\n",
       "      <td>Company 3</td>\n",
       "      <td>2021</td>\n",
       "      <td>4354.002111</td>\n",
       "      <td>4973.023840</td>\n",
       "      <td>1970.145093</td>\n",
       "      <td>60344.975039</td>\n",
       "      <td>799</td>\n",
       "      <td>3788.799062</td>\n",
       "      <td>907.945599</td>\n",
       "      <td>6.788750e+06</td>\n",
       "    </tr>\n",
       "    <tr>\n",
       "      <th>3</th>\n",
       "      <td>Company 4</td>\n",
       "      <td>2022</td>\n",
       "      <td>7958.130767</td>\n",
       "      <td>4767.188253</td>\n",
       "      <td>650.496365</td>\n",
       "      <td>95479.680237</td>\n",
       "      <td>821</td>\n",
       "      <td>3475.534004</td>\n",
       "      <td>680.177513</td>\n",
       "      <td>7.553733e+06</td>\n",
       "    </tr>\n",
       "    <tr>\n",
       "      <th>4</th>\n",
       "      <td>Company 5</td>\n",
       "      <td>2019</td>\n",
       "      <td>4119.543878</td>\n",
       "      <td>1295.294884</td>\n",
       "      <td>1240.644496</td>\n",
       "      <td>10500.320538</td>\n",
       "      <td>763</td>\n",
       "      <td>2043.068476</td>\n",
       "      <td>561.443405</td>\n",
       "      <td>2.358337e+06</td>\n",
       "    </tr>\n",
       "  </tbody>\n",
       "</table>\n",
       "</div>"
      ],
      "text/plain": [
       "     Company  Year  Scope1_Emissions  Scope2_Emissions  Scope3_Emissions  \\\n",
       "0  Company 1  2020       3184.292148       2680.241144       1568.606594   \n",
       "1  Company 2  2016       5631.347873       4208.203523       1957.773577   \n",
       "2  Company 3  2021       4354.002111       4973.023840       1970.145093   \n",
       "3  Company 4  2022       7958.130767       4767.188253        650.496365   \n",
       "4  Company 5  2019       4119.543878       1295.294884       1240.644496   \n",
       "\n",
       "   Energy_Consumption  Production_Volume  Transportation_Distance  \\\n",
       "0        75017.702584                612              3482.905977   \n",
       "1        31688.090737                955              3939.705150   \n",
       "2        60344.975039                799              3788.799062   \n",
       "3        95479.680237                821              3475.534004   \n",
       "4        10500.320538                763              2043.068476   \n",
       "\n",
       "   Waste_Generated       Revenue  \n",
       "0       737.070146  5.993909e+06  \n",
       "1       719.958769  2.124183e+06  \n",
       "2       907.945599  6.788750e+06  \n",
       "3       680.177513  7.553733e+06  \n",
       "4       561.443405  2.358337e+06  "
      ]
     },
     "execution_count": 4,
     "metadata": {},
     "output_type": "execute_result"
    }
   ],
   "source": [
    "# Let's see the first 5 rows of our dataset\n",
    "df.head()"
   ]
  },
  {
   "cell_type": "code",
   "execution_count": 5,
   "id": "ab8b870e",
   "metadata": {},
   "outputs": [
    {
     "data": {
      "text/html": [
       "<div>\n",
       "<style scoped>\n",
       "    .dataframe tbody tr th:only-of-type {\n",
       "        vertical-align: middle;\n",
       "    }\n",
       "\n",
       "    .dataframe tbody tr th {\n",
       "        vertical-align: top;\n",
       "    }\n",
       "\n",
       "    .dataframe thead th {\n",
       "        text-align: right;\n",
       "    }\n",
       "</style>\n",
       "<table border=\"1\" class=\"dataframe\">\n",
       "  <thead>\n",
       "    <tr style=\"text-align: right;\">\n",
       "      <th></th>\n",
       "      <th>Company</th>\n",
       "      <th>Year</th>\n",
       "      <th>Scope1_Emissions</th>\n",
       "      <th>Scope2_Emissions</th>\n",
       "      <th>Scope3_Emissions</th>\n",
       "      <th>Energy_Consumption</th>\n",
       "      <th>Production_Volume</th>\n",
       "      <th>Transportation_Distance</th>\n",
       "      <th>Waste_Generated</th>\n",
       "      <th>Revenue</th>\n",
       "    </tr>\n",
       "  </thead>\n",
       "  <tbody>\n",
       "    <tr>\n",
       "      <th>99995</th>\n",
       "      <td>Company 99996</td>\n",
       "      <td>2021</td>\n",
       "      <td>3930.657644</td>\n",
       "      <td>1442.091452</td>\n",
       "      <td>1184.399575</td>\n",
       "      <td>66604.039944</td>\n",
       "      <td>452</td>\n",
       "      <td>3500.099041</td>\n",
       "      <td>157.715111</td>\n",
       "      <td>8.926244e+06</td>\n",
       "    </tr>\n",
       "    <tr>\n",
       "      <th>99996</th>\n",
       "      <td>Company 99997</td>\n",
       "      <td>2021</td>\n",
       "      <td>2834.791781</td>\n",
       "      <td>869.047392</td>\n",
       "      <td>880.925972</td>\n",
       "      <td>89167.095906</td>\n",
       "      <td>214</td>\n",
       "      <td>3044.098878</td>\n",
       "      <td>379.283197</td>\n",
       "      <td>8.044697e+06</td>\n",
       "    </tr>\n",
       "    <tr>\n",
       "      <th>99997</th>\n",
       "      <td>Company 99998</td>\n",
       "      <td>2019</td>\n",
       "      <td>3978.730971</td>\n",
       "      <td>2419.336928</td>\n",
       "      <td>785.840250</td>\n",
       "      <td>54633.289529</td>\n",
       "      <td>537</td>\n",
       "      <td>1712.052568</td>\n",
       "      <td>348.395948</td>\n",
       "      <td>6.854597e+06</td>\n",
       "    </tr>\n",
       "    <tr>\n",
       "      <th>99998</th>\n",
       "      <td>Company 99999</td>\n",
       "      <td>2018</td>\n",
       "      <td>2103.997036</td>\n",
       "      <td>1447.861254</td>\n",
       "      <td>732.195810</td>\n",
       "      <td>43310.232214</td>\n",
       "      <td>352</td>\n",
       "      <td>4746.732971</td>\n",
       "      <td>482.719376</td>\n",
       "      <td>4.215246e+06</td>\n",
       "    </tr>\n",
       "    <tr>\n",
       "      <th>99999</th>\n",
       "      <td>Company 100000</td>\n",
       "      <td>2017</td>\n",
       "      <td>4692.645063</td>\n",
       "      <td>2786.970579</td>\n",
       "      <td>603.436294</td>\n",
       "      <td>64510.995328</td>\n",
       "      <td>422</td>\n",
       "      <td>4602.325851</td>\n",
       "      <td>502.684331</td>\n",
       "      <td>8.628742e+06</td>\n",
       "    </tr>\n",
       "  </tbody>\n",
       "</table>\n",
       "</div>"
      ],
      "text/plain": [
       "              Company  Year  Scope1_Emissions  Scope2_Emissions  \\\n",
       "99995   Company 99996  2021       3930.657644       1442.091452   \n",
       "99996   Company 99997  2021       2834.791781        869.047392   \n",
       "99997   Company 99998  2019       3978.730971       2419.336928   \n",
       "99998   Company 99999  2018       2103.997036       1447.861254   \n",
       "99999  Company 100000  2017       4692.645063       2786.970579   \n",
       "\n",
       "       Scope3_Emissions  Energy_Consumption  Production_Volume  \\\n",
       "99995       1184.399575        66604.039944                452   \n",
       "99996        880.925972        89167.095906                214   \n",
       "99997        785.840250        54633.289529                537   \n",
       "99998        732.195810        43310.232214                352   \n",
       "99999        603.436294        64510.995328                422   \n",
       "\n",
       "       Transportation_Distance  Waste_Generated       Revenue  \n",
       "99995              3500.099041       157.715111  8.926244e+06  \n",
       "99996              3044.098878       379.283197  8.044697e+06  \n",
       "99997              1712.052568       348.395948  6.854597e+06  \n",
       "99998              4746.732971       482.719376  4.215246e+06  \n",
       "99999              4602.325851       502.684331  8.628742e+06  "
      ]
     },
     "execution_count": 5,
     "metadata": {},
     "output_type": "execute_result"
    }
   ],
   "source": [
    "# Let's see the last 5 rows of our dataset\n",
    "df.tail()"
   ]
  },
  {
   "cell_type": "code",
   "execution_count": 6,
   "id": "e87138c1",
   "metadata": {},
   "outputs": [
    {
     "data": {
      "text/plain": [
       "(100000, 10)"
      ]
     },
     "execution_count": 6,
     "metadata": {},
     "output_type": "execute_result"
    }
   ],
   "source": [
    "# Let's check the dimensions of the dataframe\n",
    "df.shape"
   ]
  },
  {
   "cell_type": "code",
   "execution_count": 7,
   "id": "3f396f90",
   "metadata": {},
   "outputs": [
    {
     "data": {
      "text/plain": [
       "0"
      ]
     },
     "execution_count": 7,
     "metadata": {},
     "output_type": "execute_result"
    }
   ],
   "source": [
    "# To check how many duplicates are there\n",
    "\n",
    "df.duplicated().sum()"
   ]
  },
  {
   "cell_type": "code",
   "execution_count": 8,
   "id": "4b23f742",
   "metadata": {},
   "outputs": [
    {
     "data": {
      "text/html": [
       "<div>\n",
       "<style scoped>\n",
       "    .dataframe tbody tr th:only-of-type {\n",
       "        vertical-align: middle;\n",
       "    }\n",
       "\n",
       "    .dataframe tbody tr th {\n",
       "        vertical-align: top;\n",
       "    }\n",
       "\n",
       "    .dataframe thead th {\n",
       "        text-align: right;\n",
       "    }\n",
       "</style>\n",
       "<table border=\"1\" class=\"dataframe\">\n",
       "  <thead>\n",
       "    <tr style=\"text-align: right;\">\n",
       "      <th></th>\n",
       "      <th>Year</th>\n",
       "      <th>Scope1_Emissions</th>\n",
       "      <th>Scope2_Emissions</th>\n",
       "      <th>Scope3_Emissions</th>\n",
       "      <th>Energy_Consumption</th>\n",
       "      <th>Production_Volume</th>\n",
       "      <th>Transportation_Distance</th>\n",
       "      <th>Waste_Generated</th>\n",
       "      <th>Revenue</th>\n",
       "    </tr>\n",
       "  </thead>\n",
       "  <tbody>\n",
       "    <tr>\n",
       "      <th>count</th>\n",
       "      <td>100000.000000</td>\n",
       "      <td>100000.000000</td>\n",
       "      <td>100000.000000</td>\n",
       "      <td>100000.000000</td>\n",
       "      <td>100000.000000</td>\n",
       "      <td>100000.000000</td>\n",
       "      <td>100000.000000</td>\n",
       "      <td>100000.000000</td>\n",
       "      <td>1.000000e+05</td>\n",
       "    </tr>\n",
       "    <tr>\n",
       "      <th>mean</th>\n",
       "      <td>2018.498450</td>\n",
       "      <td>5491.638001</td>\n",
       "      <td>2751.623988</td>\n",
       "      <td>1097.720948</td>\n",
       "      <td>55110.980674</td>\n",
       "      <td>548.982280</td>\n",
       "      <td>2997.739330</td>\n",
       "      <td>550.501052</td>\n",
       "      <td>5.491421e+06</td>\n",
       "    </tr>\n",
       "    <tr>\n",
       "      <th>std</th>\n",
       "      <td>2.291412</td>\n",
       "      <td>2594.296227</td>\n",
       "      <td>1296.461652</td>\n",
       "      <td>518.589097</td>\n",
       "      <td>25951.634132</td>\n",
       "      <td>259.248659</td>\n",
       "      <td>1153.647638</td>\n",
       "      <td>260.550736</td>\n",
       "      <td>2.599611e+06</td>\n",
       "    </tr>\n",
       "    <tr>\n",
       "      <th>min</th>\n",
       "      <td>2015.000000</td>\n",
       "      <td>1000.014956</td>\n",
       "      <td>500.077436</td>\n",
       "      <td>200.005908</td>\n",
       "      <td>10001.058492</td>\n",
       "      <td>100.000000</td>\n",
       "      <td>1000.010665</td>\n",
       "      <td>100.007534</td>\n",
       "      <td>1.000048e+06</td>\n",
       "    </tr>\n",
       "    <tr>\n",
       "      <th>25%</th>\n",
       "      <td>2017.000000</td>\n",
       "      <td>3251.175618</td>\n",
       "      <td>1630.683794</td>\n",
       "      <td>648.986559</td>\n",
       "      <td>32695.122963</td>\n",
       "      <td>325.000000</td>\n",
       "      <td>2000.787654</td>\n",
       "      <td>324.415786</td>\n",
       "      <td>3.235947e+06</td>\n",
       "    </tr>\n",
       "    <tr>\n",
       "      <th>50%</th>\n",
       "      <td>2018.000000</td>\n",
       "      <td>5489.162334</td>\n",
       "      <td>2751.762010</td>\n",
       "      <td>1095.963314</td>\n",
       "      <td>55196.046605</td>\n",
       "      <td>548.000000</td>\n",
       "      <td>2993.409938</td>\n",
       "      <td>551.647740</td>\n",
       "      <td>5.496739e+06</td>\n",
       "    </tr>\n",
       "    <tr>\n",
       "      <th>75%</th>\n",
       "      <td>2021.000000</td>\n",
       "      <td>7738.638948</td>\n",
       "      <td>3875.554566</td>\n",
       "      <td>1544.362113</td>\n",
       "      <td>77573.570822</td>\n",
       "      <td>773.000000</td>\n",
       "      <td>3997.455529</td>\n",
       "      <td>776.597774</td>\n",
       "      <td>7.726530e+06</td>\n",
       "    </tr>\n",
       "    <tr>\n",
       "      <th>max</th>\n",
       "      <td>2022.000000</td>\n",
       "      <td>9999.850510</td>\n",
       "      <td>4999.956092</td>\n",
       "      <td>1999.996246</td>\n",
       "      <td>99998.243634</td>\n",
       "      <td>999.000000</td>\n",
       "      <td>4999.963552</td>\n",
       "      <td>999.989269</td>\n",
       "      <td>9.999944e+06</td>\n",
       "    </tr>\n",
       "  </tbody>\n",
       "</table>\n",
       "</div>"
      ],
      "text/plain": [
       "                Year  Scope1_Emissions  Scope2_Emissions  Scope3_Emissions  \\\n",
       "count  100000.000000     100000.000000     100000.000000     100000.000000   \n",
       "mean     2018.498450       5491.638001       2751.623988       1097.720948   \n",
       "std         2.291412       2594.296227       1296.461652        518.589097   \n",
       "min      2015.000000       1000.014956        500.077436        200.005908   \n",
       "25%      2017.000000       3251.175618       1630.683794        648.986559   \n",
       "50%      2018.000000       5489.162334       2751.762010       1095.963314   \n",
       "75%      2021.000000       7738.638948       3875.554566       1544.362113   \n",
       "max      2022.000000       9999.850510       4999.956092       1999.996246   \n",
       "\n",
       "       Energy_Consumption  Production_Volume  Transportation_Distance  \\\n",
       "count       100000.000000      100000.000000            100000.000000   \n",
       "mean         55110.980674         548.982280              2997.739330   \n",
       "std          25951.634132         259.248659              1153.647638   \n",
       "min          10001.058492         100.000000              1000.010665   \n",
       "25%          32695.122963         325.000000              2000.787654   \n",
       "50%          55196.046605         548.000000              2993.409938   \n",
       "75%          77573.570822         773.000000              3997.455529   \n",
       "max          99998.243634         999.000000              4999.963552   \n",
       "\n",
       "       Waste_Generated       Revenue  \n",
       "count    100000.000000  1.000000e+05  \n",
       "mean        550.501052  5.491421e+06  \n",
       "std         260.550736  2.599611e+06  \n",
       "min         100.007534  1.000048e+06  \n",
       "25%         324.415786  3.235947e+06  \n",
       "50%         551.647740  5.496739e+06  \n",
       "75%         776.597774  7.726530e+06  \n",
       "max         999.989269  9.999944e+06  "
      ]
     },
     "execution_count": 8,
     "metadata": {},
     "output_type": "execute_result"
    }
   ],
   "source": [
    "# let's look at the statistical aspects of the dataframe\n",
    "df.describe()"
   ]
  },
  {
   "cell_type": "code",
   "execution_count": 9,
   "id": "e85b3714",
   "metadata": {},
   "outputs": [
    {
     "name": "stdout",
     "output_type": "stream",
     "text": [
      "<class 'pandas.core.frame.DataFrame'>\n",
      "RangeIndex: 100000 entries, 0 to 99999\n",
      "Data columns (total 10 columns):\n",
      " #   Column                   Non-Null Count   Dtype  \n",
      "---  ------                   --------------   -----  \n",
      " 0   Company                  100000 non-null  object \n",
      " 1   Year                     100000 non-null  int64  \n",
      " 2   Scope1_Emissions         100000 non-null  float64\n",
      " 3   Scope2_Emissions         100000 non-null  float64\n",
      " 4   Scope3_Emissions         100000 non-null  float64\n",
      " 5   Energy_Consumption       100000 non-null  float64\n",
      " 6   Production_Volume        100000 non-null  int64  \n",
      " 7   Transportation_Distance  100000 non-null  float64\n",
      " 8   Waste_Generated          100000 non-null  float64\n",
      " 9   Revenue                  100000 non-null  float64\n",
      "dtypes: float64(7), int64(2), object(1)\n",
      "memory usage: 7.6+ MB\n"
     ]
    }
   ],
   "source": [
    "# Let's see the type of each column\n",
    "\n",
    "df.info()"
   ]
  },
  {
   "cell_type": "code",
   "execution_count": 10,
   "id": "a610d157",
   "metadata": {},
   "outputs": [],
   "source": [
    "# Convert 'Year' column to datetime format\n",
    "df['Year'] = pd.to_datetime(df['Year'], format='%Y')"
   ]
  },
  {
   "cell_type": "code",
   "execution_count": 11,
   "id": "778c3da7",
   "metadata": {},
   "outputs": [],
   "source": [
    "# Round numerical columns to two decimal places\n",
    "numeric_columns = ['Scope1_Emissions', 'Scope2_Emissions', 'Scope3_Emissions', 'Energy_Consumption',\n",
    "                   'Production_Volume', 'Transportation_Distance', 'Waste_Generated', 'Revenue']\n",
    "df[numeric_columns] = df[numeric_columns].round(2)"
   ]
  },
  {
   "cell_type": "code",
   "execution_count": 12,
   "id": "4469356d",
   "metadata": {},
   "outputs": [],
   "source": [
    "# sort the DataFrame by 'Year' in ascending order\n",
    "df.sort_values(by='Year', inplace=True)"
   ]
  },
  {
   "cell_type": "code",
   "execution_count": 13,
   "id": "b740ec40",
   "metadata": {},
   "outputs": [],
   "source": [
    "# Save the cleaned dataset to a new CSV file\n",
    "cleaned_file_name = 'cleaned_carbon_footprint_dataset.csv'\n",
    "df.to_csv(cleaned_file_name, index=False)"
   ]
  },
  {
   "cell_type": "code",
   "execution_count": 14,
   "id": "c47729d0",
   "metadata": {},
   "outputs": [
    {
     "name": "stdout",
     "output_type": "stream",
     "text": [
      "Data processing and cleaning completed. Cleaned dataset saved as cleaned_carbon_footprint_dataset.csv.\n"
     ]
    }
   ],
   "source": [
    "print(f\"Data processing and cleaning completed. Cleaned dataset saved as {cleaned_file_name}.\")"
   ]
  },
  {
   "cell_type": "markdown",
   "id": "6420852e",
   "metadata": {},
   "source": [
    "# Carbon Calculation Methodologies"
   ]
  },
  {
   "cell_type": "markdown",
   "id": "1f203d31",
   "metadata": {},
   "source": [
    "### The next step in the carbon footprint analysis process is to apply carbon calculation methodologies to estimate greenhouse gas emissions accurately. Different methodologies may be used depending on the scope of the analysis and the specific requirements. Let's use widely adopted \"Greenhouse Gas Protocol\" methodology, which categorizes emissions into three scopes: Scope 1, Scope 2, and Scope 3.\n",
    "\n",
    "### Here's how we can calculate the carbon footprint using the Greenhouse Gas Protocol methodology:\n",
    "\n",
    "### • Scope 1 Emissions (Direct Emissions):\n",
    "#### Scope 1 emissions include direct greenhouse gas emissions from sources that are owned or controlled by the company. This typically includes emissions from combustion of fuels (e.g., natural gas, diesel), process emissions, and fugitive emissions.\n",
    "\n",
    "#### Calculation: Scope1_Emissions = Direct emissions from combustion + Direct process emissions + Fugitive emissions.\n",
    "\n",
    "### • Scope 2 Emissions (Indirect Emissions from Purchased Electricity):\n",
    "#### Scope 2 emissions include indirect greenhouse gas emissions from the consumption of purchased electricity, heat, or steam.\n",
    "\n",
    "#### Calculation: Scope2_Emissions = Indirect emissions from purchased electricity.\n",
    "\n",
    "### • Scope 3 Emissions (Other Indirect Emissions):\n",
    "#### Scope 3 emissions are all other indirect emissions that occur as a result of the company's activities but are not directly owned or controlled by the company. This can include emissions from the entire supply chain, employee commuting, business travel, and other outsourced activities.\n",
    "\n",
    "#### Calculation: Scope3_Emissions = Emissions from supply chain activities + Emissions from employee commuting + Emissions from business travel + Other outsourced activities.\n",
    "\n",
    "### • To calculate the total carbon footprint, we can sum up the emissions from each scope:\n",
    "\n",
    "#### Total Carbon Footprint = Scope1_Emissions + Scope2_Emissions + Scope3_Emissions\n",
    "\n",
    "### we can implement this calculation in python:"
   ]
  },
  {
   "cell_type": "code",
   "execution_count": 15,
   "id": "c3556143",
   "metadata": {},
   "outputs": [],
   "source": [
    "# Calculate Scope 1, Scope 2, and Scope 3 emissions\n",
    "df['Total_Scope1_Emissions'] = df['Scope1_Emissions']\n",
    "df['Total_Scope2_Emissions'] = df['Scope2_Emissions']\n",
    "df['Total_Scope3_Emissions'] = df['Scope3_Emissions']"
   ]
  },
  {
   "cell_type": "code",
   "execution_count": 16,
   "id": "7bff93cd",
   "metadata": {},
   "outputs": [],
   "source": [
    "# Calculate Total Carbon Footprint\n",
    "df['Total_Carbon_Footprint'] = df['Total_Scope1_Emissions'] + df['Total_Scope2_Emissions'] + df['Total_Scope3_Emissions']"
   ]
  },
  {
   "cell_type": "code",
   "execution_count": 17,
   "id": "a6c7c218",
   "metadata": {},
   "outputs": [],
   "source": [
    "# round the calculated values to two decimal places\n",
    "df = df.round(2)"
   ]
  },
  {
   "cell_type": "code",
   "execution_count": 18,
   "id": "49490bee",
   "metadata": {},
   "outputs": [],
   "source": [
    "# Save the dataset with calculated carbon footprint to a new CSV file\n",
    "calculated_file_name = 'carbon_footprint_calculated_dataset.csv'\n",
    "df.to_csv(calculated_file_name, index=False)"
   ]
  },
  {
   "cell_type": "code",
   "execution_count": 19,
   "id": "73bea825",
   "metadata": {},
   "outputs": [
    {
     "name": "stdout",
     "output_type": "stream",
     "text": [
      "Carbon footprint calculation completed. Dataset with calculated carbon footprint saved as carbon_footprint_calculated_dataset.csv.\n"
     ]
    }
   ],
   "source": [
    "print(f\"Carbon footprint calculation completed. Dataset with calculated carbon footprint saved as {calculated_file_name}.\")"
   ]
  },
  {
   "cell_type": "markdown",
   "id": "aed77e84",
   "metadata": {},
   "source": [
    "# Data Analysis and Visualization"
   ]
  },
  {
   "cell_type": "code",
   "execution_count": 20,
   "id": "12de3416",
   "metadata": {},
   "outputs": [],
   "source": [
    "# import necessary libraries for data analysis and visualization\n",
    "import pandas as pd\n",
    "import matplotlib.pyplot as plt"
   ]
  },
  {
   "cell_type": "code",
   "execution_count": 21,
   "id": "c0df3d25",
   "metadata": {},
   "outputs": [],
   "source": [
    "# Load the dataset with calculated carbon footprint from the CSV file\n",
    "calculated_file_name = 'carbon_footprint_calculated_dataset.csv'\n",
    "df = pd.read_csv(calculated_file_name)"
   ]
  },
  {
   "cell_type": "code",
   "execution_count": 22,
   "id": "8302cecf",
   "metadata": {},
   "outputs": [
    {
     "name": "stdout",
     "output_type": "stream",
     "text": [
      "Summary Statistics of Carbon Footprint:\n",
      "       Total_Carbon_Footprint\n",
      "count           100000.000000\n",
      "mean              9340.982949\n",
      "std               2947.861791\n",
      "min               1874.190000\n",
      "25%               7075.657500\n",
      "50%               9340.265000\n",
      "75%              11597.312500\n",
      "max              16952.000000\n"
     ]
    }
   ],
   "source": [
    "# Summary statistics of the carbon footprint\n",
    "summary_stats = df[['Total_Carbon_Footprint']].describe()\n",
    "print(\"Summary Statistics of Carbon Footprint:\")\n",
    "print(summary_stats)"
   ]
  },
  {
   "cell_type": "code",
   "execution_count": 23,
   "id": "c74c1edc",
   "metadata": {},
   "outputs": [
    {
     "name": "stdout",
     "output_type": "stream",
     "text": [
      "\n",
      "Top Companies with Highest Carbon Footprints:\n",
      "             Company  Total_Carbon_Footprint\n",
      "8188   Company 46597                16952.00\n",
      "59317  Company 20906                16864.47\n",
      "97939  Company 38973                16830.91\n",
      "98644  Company 80010                16745.14\n",
      "69893  Company 33579                16715.51\n",
      "32684  Company 88752                16714.18\n",
      "79447  Company 86433                16710.08\n",
      "93002  Company 77217                16693.17\n",
      "22012  Company 68599                16672.80\n",
      "26577  Company 66515                16666.18\n"
     ]
    }
   ],
   "source": [
    "# Top companies with highest carbon footprints\n",
    "top_companies = df.nlargest(10, 'Total_Carbon_Footprint')\n",
    "print(\"\\nTop Companies with Highest Carbon Footprints:\")\n",
    "print(top_companies[['Company', 'Total_Carbon_Footprint']])"
   ]
  },
  {
   "cell_type": "code",
   "execution_count": 24,
   "id": "d3ecb8cb",
   "metadata": {},
   "outputs": [
    {
     "data": {
      "image/png": "[encoded data removed]",
      "text/plain": [
       "<Figure size 800x600 with 1 Axes>"
      ]
     },
     "metadata": {},
     "output_type": "display_data"
    }
   ],
   "source": [
    "# Histogram of total carbon footprint\n",
    "plt.figure(figsize=(8, 6))\n",
    "plt.hist(df['Total_Carbon_Footprint'], bins=30, color='skyblue', edgecolor='black')\n",
    "plt.xlabel('Total Carbon Footprint (tons CO2e)')\n",
    "plt.ylabel('Frequency')\n",
    "plt.title('Distribution of Total Carbon Footprint')\n",
    "plt.grid(True)\n",
    "plt.show()"
   ]
  },
  {
   "cell_type": "code",
   "execution_count": 25,
   "id": "a13a4927",
   "metadata": {},
   "outputs": [
    {
     "data": {
      "image/png": "[encoded data removed]",
      "text/plain": [
       "<Figure size 1000x600 with 1 Axes>"
      ]
     },
     "metadata": {},
     "output_type": "display_data"
    }
   ],
   "source": [
    "# Line plot of carbon footprint over years\n",
    "plt.figure(figsize=(10, 6))\n",
    "plt.plot(df['Year'], df['Total_Carbon_Footprint'], marker='o', color='green')\n",
    "plt.xlabel('Year')\n",
    "plt.ylabel('Total Carbon Footprint (tons CO2e)')\n",
    "plt.title('Carbon Footprint Trend Over Years')\n",
    "plt.xticks(rotation=45)\n",
    "plt.grid(True)\n",
    "plt.show()"
   ]
  },
  {
   "cell_type": "markdown",
   "id": "a70812af",
   "metadata": {},
   "source": [
    "# Benchmarking and Targets"
   ]
  },
  {
   "cell_type": "markdown",
   "id": "53b14a37",
   "metadata": {},
   "source": [
    "#### Compare the calculated carbon footprints against  other organizations data. Set reduction targets based on the analysis and identify areas for improvement."
   ]
  },
  {
   "cell_type": "code",
   "execution_count": 26,
   "id": "ccefa30f",
   "metadata": {},
   "outputs": [],
   "source": [
    "# Load the original dataset with calculated carbon footprint from the CSV file\n",
    "original_dataset_file = 'carbon_footprint_calculated_dataset.csv'\n",
    "df_original = pd.read_csv(original_dataset_file)"
   ]
  },
  {
   "cell_type": "code",
   "execution_count": 27,
   "id": "4759103a",
   "metadata": {},
   "outputs": [],
   "source": [
    "# Number of benchmark companies to select\n",
    "num_benchmark_companies = 800"
   ]
  },
  {
   "cell_type": "code",
   "execution_count": 28,
   "id": "f34d845f",
   "metadata": {},
   "outputs": [],
   "source": [
    "# Randomly select benchmark companies using sample() function\n",
    "benchmark_df = df_original.sample(n=num_benchmark_companies, random_state=42)"
   ]
  },
  {
   "cell_type": "code",
   "execution_count": 29,
   "id": "5193ab64",
   "metadata": {},
   "outputs": [],
   "source": [
    "# Save the benchmark data to a CSV file\n",
    "benchmark_file_name = 'random_sample_benchmark_data_800.csv'\n",
    "benchmark_df.to_csv(benchmark_file_name, index=False)"
   ]
  },
  {
   "cell_type": "code",
   "execution_count": 30,
   "id": "61481672",
   "metadata": {},
   "outputs": [
    {
     "name": "stdout",
     "output_type": "stream",
     "text": [
      "Randomly sampled benchmark data for 800 companies saved as random_sample_benchmark_data_800.csv.\n"
     ]
    }
   ],
   "source": [
    "print(f\"Randomly sampled benchmark data for {num_benchmark_companies} companies saved as {benchmark_file_name}.\")"
   ]
  },
  {
   "cell_type": "code",
   "execution_count": 31,
   "id": "4914c595",
   "metadata": {},
   "outputs": [],
   "source": [
    "# Load the dataset with calculated carbon footprint from the CSV file\n",
    "calculated_file_name = 'carbon_footprint_calculated_dataset.csv'\n",
    "df_calculated = pd.read_csv(calculated_file_name)"
   ]
  },
  {
   "cell_type": "code",
   "execution_count": 32,
   "id": "f4206c2d",
   "metadata": {},
   "outputs": [],
   "source": [
    "# Load the benchmark dataset from the CSV file\n",
    "benchmark_file_name = 'random_sample_benchmark_data_800.csv'\n",
    "df_benchmark = pd.read_csv(benchmark_file_name)"
   ]
  },
  {
   "cell_type": "code",
   "execution_count": 33,
   "id": "a1215842",
   "metadata": {},
   "outputs": [],
   "source": [
    "# Merge the calculated dataset with the benchmark data based on Company names\n",
    "merged_df = pd.merge(df_calculated, df_benchmark, on='Company', suffixes=('_Organization', '_Benchmark'))"
   ]
  },
  {
   "cell_type": "code",
   "execution_count": 34,
   "id": "874e53e2",
   "metadata": {},
   "outputs": [],
   "source": [
    "# Calculate the difference between the organization's carbon footprint and the benchmark\n",
    "merged_df['Difference'] = merged_df['Total_Carbon_Footprint_Organization'] - merged_df['Total_Carbon_Footprint_Benchmark']"
   ]
  },
  {
   "cell_type": "code",
   "execution_count": 35,
   "id": "34152590",
   "metadata": {},
   "outputs": [
    {
     "data": {
      "image/png": "[encoded data removed]",
      "text/plain": [
       "<Figure size 1200x600 with 1 Axes>"
      ]
     },
     "metadata": {},
     "output_type": "display_data"
    }
   ],
   "source": [
    "# Data Visualization for Benchmarking\n",
    "# Bar plot to compare carbon footprints with benchmarks\n",
    "plt.figure(figsize=(12, 6))\n",
    "plt.bar(merged_df['Company'], merged_df['Total_Carbon_Footprint_Organization'], label='Organization', color='green')\n",
    "plt.bar(merged_df['Company'], merged_df['Total_Carbon_Footprint_Benchmark'], label='Benchmark', color='skyblue')\n",
    "plt.xlabel('Company')\n",
    "plt.ylabel('Total Carbon Footprint (tons CO2e)')\n",
    "plt.title('Carbon Footprint Comparison with Industry Benchmark')\n",
    "plt.xticks(rotation=45)\n",
    "plt.legend()\n",
    "plt.grid(True)\n",
    "plt.show()"
   ]
  },
  {
   "cell_type": "code",
   "execution_count": 36,
   "id": "b2de1351",
   "metadata": {},
   "outputs": [
    {
     "data": {
      "image/png": "[encoded data removed]",
      "text/plain": [
       "<Figure size 1200x600 with 1 Axes>"
      ]
     },
     "metadata": {},
     "output_type": "display_data"
    }
   ],
   "source": [
    "# Bar plot to show the difference from benchmark\n",
    "plt.figure(figsize=(12, 6))\n",
    "plt.bar(merged_df['Company'], merged_df['Difference'], color='orange')\n",
    "plt.xlabel('Company')\n",
    "plt.ylabel('Difference from Benchmark (tons CO2e)')\n",
    "plt.title('Difference from Industry Benchmark')\n",
    "plt.xticks(rotation=45)\n",
    "plt.grid(True)\n",
    "plt.show()"
   ]
  },
  {
   "cell_type": "code",
   "execution_count": 37,
   "id": "f2d4b97f",
   "metadata": {},
   "outputs": [],
   "source": [
    "# Setting Reduction Targets\n",
    "# Calculate the average difference from the benchmark\n",
    "average_difference = merged_df['Difference'].mean()"
   ]
  },
  {
   "cell_type": "code",
   "execution_count": 38,
   "id": "98a5232e",
   "metadata": {},
   "outputs": [],
   "source": [
    "# Set a realistic reduction target\n",
    "reduction_target = average_difference * 0.05"
   ]
  },
  {
   "cell_type": "code",
   "execution_count": 39,
   "id": "80742a14",
   "metadata": {},
   "outputs": [
    {
     "name": "stdout",
     "output_type": "stream",
     "text": [
      "Average Difference from Benchmark: 0.00 tons CO2e\n",
      "Realistic Reduction Target: 0.00 tons CO2e\n"
     ]
    }
   ],
   "source": [
    "print(f\"Average Difference from Benchmark: {average_difference:.2f} tons CO2e\")\n",
    "print(f\"Realistic Reduction Target: {reduction_target:.2f} tons CO2e\")"
   ]
  },
  {
   "cell_type": "markdown",
   "id": "695d42af",
   "metadata": {},
   "source": [
    "# Hotspots"
   ]
  },
  {
   "cell_type": "code",
   "execution_count": 40,
   "id": "030f5ad4",
   "metadata": {},
   "outputs": [],
   "source": [
    "# Load the dataset with calculated carbon footprint from the CSV file\n",
    "calculated_file_name = 'carbon_footprint_calculated_dataset.csv'\n",
    "df_calculated = pd.read_csv(calculated_file_name)"
   ]
  },
  {
   "cell_type": "code",
   "execution_count": 41,
   "id": "cd65fc22",
   "metadata": {},
   "outputs": [],
   "source": [
    "# Group the data by emission scope and calculate the total carbon footprint for each scope\n",
    "scope1_total = df_calculated['Scope1_Emissions'].sum()\n",
    "scope2_total = df_calculated['Scope2_Emissions'].sum()\n",
    "scope3_total = df_calculated['Scope3_Emissions'].sum()"
   ]
  },
  {
   "cell_type": "code",
   "execution_count": 42,
   "id": "9ee8d564",
   "metadata": {},
   "outputs": [
    {
     "data": {
      "image/png": "[encoded data removed]",
      "text/plain": [
       "<Figure size 800x800 with 1 Axes>"
      ]
     },
     "metadata": {},
     "output_type": "display_data"
    }
   ],
   "source": [
    "# Data Visualization for Hotspots\n",
    "# Pie chart to show the contribution of each scope to the total carbon footprint\n",
    "labels = ['Scope 1', 'Scope 2', 'Scope 3']\n",
    "sizes = [scope1_total, scope2_total, scope3_total]\n",
    "colors = ['red', 'blue', 'green']\n",
    "plt.figure(figsize=(8, 8))\n",
    "plt.pie(sizes, labels=labels, colors=colors, autopct='%1.1f%%', startangle=140)\n",
    "plt.axis('equal')\n",
    "plt.title('Contribution of Emission Scopes to Total Carbon Footprint')\n",
    "plt.show()"
   ]
  },
  {
   "cell_type": "code",
   "execution_count": 43,
   "id": "73375db5",
   "metadata": {},
   "outputs": [],
   "source": [
    "# Identify hotspots for each emission scope\n",
    "hotspots_scope1 = df_calculated.nlargest(5, 'Scope1_Emissions')\n",
    "hotspots_scope2 = df_calculated.nlargest(5, 'Scope2_Emissions')\n",
    "hotspots_scope3 = df_calculated.nlargest(5, 'Scope3_Emissions')"
   ]
  },
  {
   "cell_type": "code",
   "execution_count": 44,
   "id": "4f0e068d",
   "metadata": {},
   "outputs": [
    {
     "name": "stdout",
     "output_type": "stream",
     "text": [
      "Top 5 Hotspots for Scope 1 Emissions:\n",
      "             Company  Scope1_Emissions\n",
      "53739    Company 239           9999.85\n",
      "96950  Company 18460           9999.82\n",
      "71959  Company 10514           9999.74\n",
      "69689  Company 47441           9999.69\n",
      "77713  Company 18612           9999.69\n",
      "\n",
      "Top 5 Hotspots for Scope 2 Emissions:\n",
      "             Company  Scope2_Emissions\n",
      "99508  Company 35287           4999.96\n",
      "90563  Company 92019           4999.87\n",
      "2339   Company 15850           4999.82\n",
      "75257  Company 33603           4999.71\n",
      "3935   Company 43625           4999.59\n",
      "\n",
      "Top 5 Hotspots for Scope 3 Emissions:\n",
      "             Company  Scope3_Emissions\n",
      "24543  Company 74937           2000.00\n",
      "45140  Company 57479           1999.97\n",
      "47057  Company 27694           1999.97\n",
      "57210  Company 78531           1999.94\n",
      "20639  Company 98895           1999.92\n"
     ]
    }
   ],
   "source": [
    "# Print the top 5 hotspots for each emission scope\n",
    "print(\"Top 5 Hotspots for Scope 1 Emissions:\")\n",
    "print(hotspots_scope1[['Company', 'Scope1_Emissions']])\n",
    "print(\"\\nTop 5 Hotspots for Scope 2 Emissions:\")\n",
    "print(hotspots_scope2[['Company', 'Scope2_Emissions']])\n",
    "print(\"\\nTop 5 Hotspots for Scope 3 Emissions:\")\n",
    "print(hotspots_scope3[['Company', 'Scope3_Emissions']])"
   ]
  },
  {
   "cell_type": "markdown",
   "id": "69fe8b0d",
   "metadata": {},
   "source": [
    "#### By identifying hotspots, your organization can focus on implementing targeted strategies to reduce emissions in the areas where they have the most significant environmental impact. This analysis is vital for effective carbon management and sustainability efforts."
   ]
  },
  {
   "cell_type": "markdown",
   "id": "36ae16cb",
   "metadata": {},
   "source": [
    "# Machine Learning on the Calculated datset"
   ]
  },
  {
   "cell_type": "markdown",
   "id": "fdc27547",
   "metadata": {},
   "source": [
    "##  1.Data Preprocessing"
   ]
  },
  {
   "cell_type": "markdown",
   "id": "db2ad5fd",
   "metadata": {},
   "source": [
    "### Cleaning the dataset"
   ]
  },
  {
   "cell_type": "code",
   "execution_count": 45,
   "id": "64f5f800",
   "metadata": {},
   "outputs": [],
   "source": [
    "# Import necessary libraries\n",
    "import pandas as pd"
   ]
  },
  {
   "cell_type": "code",
   "execution_count": 46,
   "id": "aacf3340",
   "metadata": {},
   "outputs": [],
   "source": [
    "# Load the dataset\n",
    "dataset_path = 'carbon_footprint_calculated_dataset.csv'\n",
    "df = pd.read_csv(dataset_path)"
   ]
  },
  {
   "cell_type": "code",
   "execution_count": 47,
   "id": "e2d64fb2",
   "metadata": {},
   "outputs": [
    {
     "name": "stdout",
     "output_type": "stream",
     "text": [
      "Missing Values:\n",
      " Company                    0\n",
      "Year                       0\n",
      "Scope1_Emissions           0\n",
      "Scope2_Emissions           0\n",
      "Scope3_Emissions           0\n",
      "Energy_Consumption         0\n",
      "Production_Volume          0\n",
      "Transportation_Distance    0\n",
      "Waste_Generated            0\n",
      "Revenue                    0\n",
      "Total_Scope1_Emissions     0\n",
      "Total_Scope2_Emissions     0\n",
      "Total_Scope3_Emissions     0\n",
      "Total_Carbon_Footprint     0\n",
      "dtype: int64\n"
     ]
    }
   ],
   "source": [
    "# Check for missing values\n",
    "missing_values = df.isnull().sum()\n",
    "print(\"Missing Values:\\n\", missing_values)"
   ]
  },
  {
   "cell_type": "code",
   "execution_count": 48,
   "id": "d128d39c",
   "metadata": {},
   "outputs": [
    {
     "data": {
      "text/plain": [
       "0"
      ]
     },
     "execution_count": 48,
     "metadata": {},
     "output_type": "execute_result"
    }
   ],
   "source": [
    "# To check how many duplicates are there\n",
    "\n",
    "df.duplicated().sum()"
   ]
  },
  {
   "cell_type": "code",
   "execution_count": 49,
   "id": "e3217b19",
   "metadata": {},
   "outputs": [],
   "source": [
    "# To find outliers in numerical columns.\n",
    "numerical_columns = ['Scope1_Emissions', 'Scope2_Emissions', 'Scope3_Emissions', 'Energy_Consumption',\n",
    "                     'Production_Volume', 'Transportation_Distance', 'Waste_Generated', 'Revenue',\n",
    "                     'Total_Scope1_Emissions', 'Total_Scope2_Emissions', 'Total_Scope3_Emissions', 'Total_Carbon_Footprint']\n",
    "\n",
    "for column in numerical_columns:\n",
    "    lower_bound = df[column].mean() - 3 * df[column].std()\n",
    "    upper_bound = df[column].mean() + 3 * df[column].std()\n",
    "    df = df[(df[column] >= lower_bound) & (df[column] <= upper_bound)]\n"
   ]
  },
  {
   "cell_type": "code",
   "execution_count": 50,
   "id": "15b59175",
   "metadata": {},
   "outputs": [],
   "source": [
    "# importing the libraries for visualizing the outliers in the columns\n",
    "import pandas as pd\n",
    "import matplotlib.pyplot as plt\n",
    "import seaborn as sns"
   ]
  },
  {
   "cell_type": "code",
   "execution_count": 51,
   "id": "809dafb3",
   "metadata": {},
   "outputs": [
    {
     "data": {
      "image/png": "[encoded data removed]",
      "text/plain": [
       "<Figure size 1200x600 with 1 Axes>"
      ]
     },
     "metadata": {},
     "output_type": "display_data"
    }
   ],
   "source": [
    "# Visualize outliers using box plots\n",
    "plt.figure(figsize=(12, 6))\n",
    "sns.boxplot(data=df[numerical_columns], orient=\"h\")\n",
    "plt.title(\"Box Plots for Outlier Detection\")\n",
    "plt.xlabel(\"Values\")\n",
    "plt.show()"
   ]
  },
  {
   "cell_type": "code",
   "execution_count": 52,
   "id": "2f73de50",
   "metadata": {},
   "outputs": [],
   "source": [
    "# Save the cleaned dataset\n",
    "cleaned_dataset_path = 'cleaned_carbon_footprint_calculated_dataset.csv'\n",
    "df.to_csv(cleaned_dataset_path, index=False)"
   ]
  },
  {
   "cell_type": "code",
   "execution_count": 53,
   "id": "9e18a65a",
   "metadata": {},
   "outputs": [
    {
     "name": "stdout",
     "output_type": "stream",
     "text": [
      "Cleaned dataset saved: cleaned_carbon_footprint_calculated_dataset.csv\n"
     ]
    }
   ],
   "source": [
    "print(\"Cleaned dataset saved:\", cleaned_dataset_path)"
   ]
  },
  {
   "cell_type": "markdown",
   "id": "316f964e",
   "metadata": {},
   "source": [
    "### Encoding the categorical variables"
   ]
  },
  {
   "cell_type": "code",
   "execution_count": 54,
   "id": "ad1028cc",
   "metadata": {},
   "outputs": [],
   "source": [
    "## We have done feature engineering to both of our categorical variables"
   ]
  },
  {
   "cell_type": "code",
   "execution_count": 55,
   "id": "8792a1c1",
   "metadata": {},
   "outputs": [],
   "source": [
    "# we are going to do a combination of frequency and target enconding\n",
    "# Calculate frequency and mean carbon footprint for each company\n",
    "company_info = df.groupby('Company').agg({'Total_Carbon_Footprint': 'mean', 'Company': 'count'})"
   ]
  },
  {
   "cell_type": "code",
   "execution_count": 56,
   "id": "d7662baa",
   "metadata": {},
   "outputs": [],
   "source": [
    "# Rename columns for clarity\n",
    "company_info.rename(columns={'Total_Carbon_Footprint': 'Company_Carbon_Mean', 'Company': 'Company_Frequency'}, inplace=True)"
   ]
  },
  {
   "cell_type": "code",
   "execution_count": 57,
   "id": "f9b0f39c",
   "metadata": {},
   "outputs": [],
   "source": [
    "# Merge the information back to the main dataframe\n",
    "df = df.merge(company_info, left_on='Company', right_index=True, how='left')"
   ]
  },
  {
   "cell_type": "code",
   "execution_count": 58,
   "id": "ecd76faf",
   "metadata": {},
   "outputs": [],
   "source": [
    "# Drop the 'Company' column\n",
    "df = df.drop(columns=['Company'])"
   ]
  },
  {
   "cell_type": "code",
   "execution_count": 59,
   "id": "9f256ca8",
   "metadata": {},
   "outputs": [],
   "source": [
    "# Extract the year from the date-like format in 'Year' column\n",
    "df['Year'] = pd.to_datetime(df['Year']).dt.year"
   ]
  },
  {
   "cell_type": "code",
   "execution_count": 60,
   "id": "29a338ce",
   "metadata": {},
   "outputs": [],
   "source": [
    "# Calculate the age of the company\n",
    "current_year = pd.Timestamp.now().year\n",
    "df['Company_Age'] = current_year - df['Year']"
   ]
  },
  {
   "cell_type": "code",
   "execution_count": 61,
   "id": "31c8ff5c",
   "metadata": {},
   "outputs": [
    {
     "name": "stdout",
     "output_type": "stream",
     "text": [
      "Index(['Year', 'Scope1_Emissions', 'Scope2_Emissions', 'Scope3_Emissions',\n",
      "       'Energy_Consumption', 'Production_Volume', 'Transportation_Distance',\n",
      "       'Waste_Generated', 'Revenue', 'Total_Scope1_Emissions',\n",
      "       'Total_Scope2_Emissions', 'Total_Scope3_Emissions',\n",
      "       'Total_Carbon_Footprint', 'Company_Carbon_Mean', 'Company_Frequency',\n",
      "       'Company_Age'],\n",
      "      dtype='object')\n"
     ]
    }
   ],
   "source": [
    "print(df.columns)"
   ]
  },
  {
   "cell_type": "code",
   "execution_count": null,
   "id": "a0369b12",
   "metadata": {},
   "outputs": [],
   "source": []
  },
  {
   "cell_type": "markdown",
   "id": "7d166ca3",
   "metadata": {},
   "source": [
    "### Feature Selection"
   ]
  },
  {
   "cell_type": "code",
   "execution_count": 62,
   "id": "2fd8507c",
   "metadata": {},
   "outputs": [],
   "source": [
    "# So for feature selection we are using Feature Importance from Trees (random forest)\n",
    "# Import the necessary libraries \n",
    "from sklearn.ensemble import RandomForestRegressor"
   ]
  },
  {
   "cell_type": "code",
   "execution_count": 63,
   "id": "9239c716",
   "metadata": {},
   "outputs": [],
   "source": [
    "# Splitting the dataset into features (X) and target (y)\n",
    "X = df.drop('Total_Carbon_Footprint', axis=1)  # Features\n",
    "y = df['Total_Carbon_Footprint']  # Target"
   ]
  },
  {
   "cell_type": "code",
   "execution_count": 64,
   "id": "1beacfe7",
   "metadata": {},
   "outputs": [],
   "source": [
    "# Create a Random Forest model\n",
    "model = RandomForestRegressor()"
   ]
  },
  {
   "cell_type": "code",
   "execution_count": 65,
   "id": "920ebede",
   "metadata": {},
   "outputs": [
    {
     "data": {
      "text/html": [
       "<style>#sk-container-id-1 {color: black;background-color: white;}#sk-container-id-1 pre{padding: 0;}#sk-container-id-1 div.sk-toggleable {background-color: white;}#sk-container-id-1 label.sk-toggleable__label {cursor: pointer;display: block;width: 100%;margin-bottom: 0;padding: 0.3em;box-sizing: border-box;text-align: center;}#sk-container-id-1 label.sk-toggleable__label-arrow:before {content: \"▸\";float: left;margin-right: 0.25em;color: #696969;}#sk-container-id-1 label.sk-toggleable__label-arrow:hover:before {color: black;}#sk-container-id-1 div.sk-estimator:hover label.sk-toggleable__label-arrow:before {color: black;}#sk-container-id-1 div.sk-toggleable__content {max-height: 0;max-width: 0;overflow: hidden;text-align: left;background-color: #f0f8ff;}#sk-container-id-1 div.sk-toggleable__content pre {margin: 0.2em;color: black;border-radius: 0.25em;background-color: #f0f8ff;}#sk-container-id-1 input.sk-toggleable__control:checked~div.sk-toggleable__content {max-height: 200px;max-width: 100%;overflow: auto;}#sk-container-id-1 input.sk-toggleable__control:checked~label.sk-toggleable__label-arrow:before {content: \"▾\";}#sk-container-id-1 div.sk-estimator input.sk-toggleable__control:checked~label.sk-toggleable__label {background-color: #d4ebff;}#sk-container-id-1 div.sk-label input.sk-toggleable__control:checked~label.sk-toggleable__label {background-color: #d4ebff;}#sk-container-id-1 input.sk-hidden--visually {border: 0;clip: rect(1px 1px 1px 1px);clip: rect(1px, 1px, 1px, 1px);height: 1px;margin: -1px;overflow: hidden;padding: 0;position: absolute;width: 1px;}#sk-container-id-1 div.sk-estimator {font-family: monospace;background-color: #f0f8ff;border: 1px dotted black;border-radius: 0.25em;box-sizing: border-box;margin-bottom: 0.5em;}#sk-container-id-1 div.sk-estimator:hover {background-color: #d4ebff;}#sk-container-id-1 div.sk-parallel-item::after {content: \"\";width: 100%;border-bottom: 1px solid gray;flex-grow: 1;}#sk-container-id-1 div.sk-label:hover label.sk-toggleable__label {background-color: #d4ebff;}#sk-container-id-1 div.sk-serial::before {content: \"\";position: absolute;border-left: 1px solid gray;box-sizing: border-box;top: 0;bottom: 0;left: 50%;z-index: 0;}#sk-container-id-1 div.sk-serial {display: flex;flex-direction: column;align-items: center;background-color: white;padding-right: 0.2em;padding-left: 0.2em;position: relative;}#sk-container-id-1 div.sk-item {position: relative;z-index: 1;}#sk-container-id-1 div.sk-parallel {display: flex;align-items: stretch;justify-content: center;background-color: white;position: relative;}#sk-container-id-1 div.sk-item::before, #sk-container-id-1 div.sk-parallel-item::before {content: \"\";position: absolute;border-left: 1px solid gray;box-sizing: border-box;top: 0;bottom: 0;left: 50%;z-index: -1;}#sk-container-id-1 div.sk-parallel-item {display: flex;flex-direction: column;z-index: 1;position: relative;background-color: white;}#sk-container-id-1 div.sk-parallel-item:first-child::after {align-self: flex-end;width: 50%;}#sk-container-id-1 div.sk-parallel-item:last-child::after {align-self: flex-start;width: 50%;}#sk-container-id-1 div.sk-parallel-item:only-child::after {width: 0;}#sk-container-id-1 div.sk-dashed-wrapped {border: 1px dashed gray;margin: 0 0.4em 0.5em 0.4em;box-sizing: border-box;padding-bottom: 0.4em;background-color: white;}#sk-container-id-1 div.sk-label label {font-family: monospace;font-weight: bold;display: inline-block;line-height: 1.2em;}#sk-container-id-1 div.sk-label-container {text-align: center;}#sk-container-id-1 div.sk-container {/* jupyter's `normalize.less` sets `[hidden] { display: none; }` but bootstrap.min.css set `[hidden] { display: none !important; }` so we also need the `!important` here to be able to override the default hidden behavior on the sphinx rendered scikit-learn.org. See: https://github.com/scikit-learn/scikit-learn/issues/21755 */display: inline-block !important;position: relative;}#sk-container-id-1 div.sk-text-repr-fallback {display: none;}</style><div id=\"sk-container-id-1\" class=\"sk-top-container\"><div class=\"sk-text-repr-fallback\"><pre>RandomForestRegressor()</pre><b>In a Jupyter environment, please rerun this cell to show the HTML representation or trust the notebook. <br />On GitHub, the HTML representation is unable to render, please try loading this page with nbviewer.org.</b></div><div class=\"sk-container\" hidden><div class=\"sk-item\"><div class=\"sk-estimator sk-toggleable\"><input class=\"sk-toggleable__control sk-hidden--visually\" id=\"sk-estimator-id-1\" type=\"checkbox\" checked><label for=\"sk-estimator-id-1\" class=\"sk-toggleable__label sk-toggleable__label-arrow\">RandomForestRegressor</label><div class=\"sk-toggleable__content\"><pre>RandomForestRegressor()</pre></div></div></div></div></div>"
      ],
      "text/plain": [
       "RandomForestRegressor()"
      ]
     },
     "execution_count": 65,
     "metadata": {},
     "output_type": "execute_result"
    }
   ],
   "source": [
    "# Fit the model to the data\n",
    "model.fit(X, y)"
   ]
  },
  {
   "cell_type": "code",
   "execution_count": 66,
   "id": "fd5e6afd",
   "metadata": {},
   "outputs": [],
   "source": [
    "# Get feature importances\n",
    "feature_importances = model.feature_importances_"
   ]
  },
  {
   "cell_type": "code",
   "execution_count": 67,
   "id": "c8b248fc",
   "metadata": {},
   "outputs": [],
   "source": [
    "# Pair features with their importance scores\n",
    "feature_importance_pairs = list(zip(X.columns, feature_importances))"
   ]
  },
  {
   "cell_type": "code",
   "execution_count": 68,
   "id": "a3dcf7d2",
   "metadata": {},
   "outputs": [],
   "source": [
    "# Sort features by importance in descending order\n",
    "sorted_feature_importance = sorted(feature_importance_pairs, key=lambda x: x[1], reverse=True)"
   ]
  },
  {
   "cell_type": "code",
   "execution_count": 69,
   "id": "df76c627",
   "metadata": {},
   "outputs": [
    {
     "name": "stdout",
     "output_type": "stream",
     "text": [
      "Company_Carbon_Mean: 0.9999999075161888\n",
      "Production_Volume: 1.63574819923739e-08\n",
      "Total_Scope2_Emissions: 1.1405640403757745e-08\n",
      "Scope2_Emissions: 1.0409171693827405e-08\n",
      "Total_Scope3_Emissions: 1.0300872127868975e-08\n",
      "Scope3_Emissions: 8.472901731164282e-09\n",
      "Scope1_Emissions: 5.313436325993831e-09\n",
      "Total_Scope1_Emissions: 5.096011208267004e-09\n",
      "Year: 5.048406162258891e-09\n",
      "Energy_Consumption: 4.666678096490267e-09\n",
      "Transportation_Distance: 4.666298360937896e-09\n",
      "Revenue: 4.114005858967543e-09\n",
      "Waste_Generated: 3.3602782636937014e-09\n",
      "Company_Age: 3.2726289225184137e-09\n",
      "Company_Frequency: 0.0\n"
     ]
    }
   ],
   "source": [
    "# Print the sorted feature importances\n",
    "for feature, importance in sorted_feature_importance:\n",
    "    print(f\"{feature}: {importance}\")"
   ]
  },
  {
   "cell_type": "markdown",
   "id": "9f6b63bc",
   "metadata": {},
   "source": [
    "### Split the dataset"
   ]
  },
  {
   "cell_type": "code",
   "execution_count": 70,
   "id": "fd94d851",
   "metadata": {},
   "outputs": [],
   "source": [
    "# Import the necessary libraries\n",
    "from sklearn.model_selection import train_test_split"
   ]
  },
  {
   "cell_type": "code",
   "execution_count": 71,
   "id": "95b5a5e9",
   "metadata": {},
   "outputs": [],
   "source": [
    "# Separate the target variable\n",
    "y = df['Total_Carbon_Footprint']"
   ]
  },
  {
   "cell_type": "code",
   "execution_count": 72,
   "id": "a8b0121e",
   "metadata": {},
   "outputs": [],
   "source": [
    "# Drop the target variable from the features\n",
    "X = df.drop('Total_Carbon_Footprint', axis=1)"
   ]
  },
  {
   "cell_type": "code",
   "execution_count": 73,
   "id": "e5a11b0b",
   "metadata": {},
   "outputs": [],
   "source": [
    "# Split the dataset into training and testing sets\n",
    "X_train, X_test, y_train, y_test = train_test_split(X, y, test_size=0.2, random_state=42)"
   ]
  },
  {
   "cell_type": "code",
   "execution_count": 74,
   "id": "03f8b5aa",
   "metadata": {},
   "outputs": [
    {
     "name": "stdout",
     "output_type": "stream",
     "text": [
      "X_train shape: (80000, 15)\n",
      "X_test shape: (20000, 15)\n",
      "y_train shape: (80000,)\n",
      "y_test shape: (20000,)\n"
     ]
    }
   ],
   "source": [
    "# Print the shapes of the subsets\n",
    "print(\"X_train shape:\", X_train.shape)\n",
    "print(\"X_test shape:\", X_test.shape)\n",
    "print(\"y_train shape:\", y_train.shape)\n",
    "print(\"y_test shape:\", y_test.shape)"
   ]
  },
  {
   "cell_type": "markdown",
   "id": "bfdcd408",
   "metadata": {},
   "source": [
    "## 2. Feature scaling"
   ]
  },
  {
   "cell_type": "code",
   "execution_count": 75,
   "id": "c5cd5731",
   "metadata": {},
   "outputs": [],
   "source": [
    "# lets perform Standardization to our features\n",
    "# import necessary libraries\n",
    "from sklearn.preprocessing import StandardScaler"
   ]
  },
  {
   "cell_type": "code",
   "execution_count": 76,
   "id": "b8f53ef9",
   "metadata": {},
   "outputs": [],
   "source": [
    "# Initialize the StandardScaler\n",
    "scaler = StandardScaler()"
   ]
  },
  {
   "cell_type": "code",
   "execution_count": 77,
   "id": "8e70107a",
   "metadata": {},
   "outputs": [],
   "source": [
    "# Fit and transform the scaler on the training features\n",
    "X_train_scaled = scaler.fit_transform(X_train)"
   ]
  },
  {
   "cell_type": "code",
   "execution_count": 78,
   "id": "959a2cb9",
   "metadata": {},
   "outputs": [],
   "source": [
    "# Transform the test features using the same scaler\n",
    "X_test_scaled = scaler.transform(X_test)"
   ]
  },
  {
   "cell_type": "markdown",
   "id": "009650fa",
   "metadata": {},
   "source": [
    "## 3. Machine learning models"
   ]
  },
  {
   "cell_type": "markdown",
   "id": "6f1ac7fa",
   "metadata": {},
   "source": [
    "### Linear regression"
   ]
  },
  {
   "cell_type": "code",
   "execution_count": 79,
   "id": "27849c4a",
   "metadata": {},
   "outputs": [],
   "source": [
    "# import necessary libraries\n",
    "from sklearn.model_selection import train_test_split\n",
    "from sklearn.linear_model import LinearRegression\n",
    "from sklearn.metrics import mean_squared_error, r2_score, mean_absolute_error"
   ]
  },
  {
   "cell_type": "code",
   "execution_count": 80,
   "id": "b4f1e002",
   "metadata": {},
   "outputs": [
    {
     "data": {
      "text/html": [
       "<style>#sk-container-id-2 {color: black;background-color: white;}#sk-container-id-2 pre{padding: 0;}#sk-container-id-2 div.sk-toggleable {background-color: white;}#sk-container-id-2 label.sk-toggleable__label {cursor: pointer;display: block;width: 100%;margin-bottom: 0;padding: 0.3em;box-sizing: border-box;text-align: center;}#sk-container-id-2 label.sk-toggleable__label-arrow:before {content: \"▸\";float: left;margin-right: 0.25em;color: #696969;}#sk-container-id-2 label.sk-toggleable__label-arrow:hover:before {color: black;}#sk-container-id-2 div.sk-estimator:hover label.sk-toggleable__label-arrow:before {color: black;}#sk-container-id-2 div.sk-toggleable__content {max-height: 0;max-width: 0;overflow: hidden;text-align: left;background-color: #f0f8ff;}#sk-container-id-2 div.sk-toggleable__content pre {margin: 0.2em;color: black;border-radius: 0.25em;background-color: #f0f8ff;}#sk-container-id-2 input.sk-toggleable__control:checked~div.sk-toggleable__content {max-height: 200px;max-width: 100%;overflow: auto;}#sk-container-id-2 input.sk-toggleable__control:checked~label.sk-toggleable__label-arrow:before {content: \"▾\";}#sk-container-id-2 div.sk-estimator input.sk-toggleable__control:checked~label.sk-toggleable__label {background-color: #d4ebff;}#sk-container-id-2 div.sk-label input.sk-toggleable__control:checked~label.sk-toggleable__label {background-color: #d4ebff;}#sk-container-id-2 input.sk-hidden--visually {border: 0;clip: rect(1px 1px 1px 1px);clip: rect(1px, 1px, 1px, 1px);height: 1px;margin: -1px;overflow: hidden;padding: 0;position: absolute;width: 1px;}#sk-container-id-2 div.sk-estimator {font-family: monospace;background-color: #f0f8ff;border: 1px dotted black;border-radius: 0.25em;box-sizing: border-box;margin-bottom: 0.5em;}#sk-container-id-2 div.sk-estimator:hover {background-color: #d4ebff;}#sk-container-id-2 div.sk-parallel-item::after {content: \"\";width: 100%;border-bottom: 1px solid gray;flex-grow: 1;}#sk-container-id-2 div.sk-label:hover label.sk-toggleable__label {background-color: #d4ebff;}#sk-container-id-2 div.sk-serial::before {content: \"\";position: absolute;border-left: 1px solid gray;box-sizing: border-box;top: 0;bottom: 0;left: 50%;z-index: 0;}#sk-container-id-2 div.sk-serial {display: flex;flex-direction: column;align-items: center;background-color: white;padding-right: 0.2em;padding-left: 0.2em;position: relative;}#sk-container-id-2 div.sk-item {position: relative;z-index: 1;}#sk-container-id-2 div.sk-parallel {display: flex;align-items: stretch;justify-content: center;background-color: white;position: relative;}#sk-container-id-2 div.sk-item::before, #sk-container-id-2 div.sk-parallel-item::before {content: \"\";position: absolute;border-left: 1px solid gray;box-sizing: border-box;top: 0;bottom: 0;left: 50%;z-index: -1;}#sk-container-id-2 div.sk-parallel-item {display: flex;flex-direction: column;z-index: 1;position: relative;background-color: white;}#sk-container-id-2 div.sk-parallel-item:first-child::after {align-self: flex-end;width: 50%;}#sk-container-id-2 div.sk-parallel-item:last-child::after {align-self: flex-start;width: 50%;}#sk-container-id-2 div.sk-parallel-item:only-child::after {width: 0;}#sk-container-id-2 div.sk-dashed-wrapped {border: 1px dashed gray;margin: 0 0.4em 0.5em 0.4em;box-sizing: border-box;padding-bottom: 0.4em;background-color: white;}#sk-container-id-2 div.sk-label label {font-family: monospace;font-weight: bold;display: inline-block;line-height: 1.2em;}#sk-container-id-2 div.sk-label-container {text-align: center;}#sk-container-id-2 div.sk-container {/* jupyter's `normalize.less` sets `[hidden] { display: none; }` but bootstrap.min.css set `[hidden] { display: none !important; }` so we also need the `!important` here to be able to override the default hidden behavior on the sphinx rendered scikit-learn.org. See: https://github.com/scikit-learn/scikit-learn/issues/21755 */display: inline-block !important;position: relative;}#sk-container-id-2 div.sk-text-repr-fallback {display: none;}</style><div id=\"sk-container-id-2\" class=\"sk-top-container\"><div class=\"sk-text-repr-fallback\"><pre>LinearRegression()</pre><b>In a Jupyter environment, please rerun this cell to show the HTML representation or trust the notebook. <br />On GitHub, the HTML representation is unable to render, please try loading this page with nbviewer.org.</b></div><div class=\"sk-container\" hidden><div class=\"sk-item\"><div class=\"sk-estimator sk-toggleable\"><input class=\"sk-toggleable__control sk-hidden--visually\" id=\"sk-estimator-id-2\" type=\"checkbox\" checked><label for=\"sk-estimator-id-2\" class=\"sk-toggleable__label sk-toggleable__label-arrow\">LinearRegression</label><div class=\"sk-toggleable__content\"><pre>LinearRegression()</pre></div></div></div></div></div>"
      ],
      "text/plain": [
       "LinearRegression()"
      ]
     },
     "execution_count": 80,
     "metadata": {},
     "output_type": "execute_result"
    }
   ],
   "source": [
    "# Create and train the Linear Regression model\n",
    "model = LinearRegression()\n",
    "model.fit(X_train, y_train)"
   ]
  },
  {
   "cell_type": "code",
   "execution_count": 81,
   "id": "47323a5e",
   "metadata": {},
   "outputs": [],
   "source": [
    "# Predict on the test set\n",
    "y_pred = model.predict(X_test)"
   ]
  },
  {
   "cell_type": "code",
   "execution_count": 82,
   "id": "c7e64c56",
   "metadata": {},
   "outputs": [],
   "source": [
    "# Calculate evaluation metrics\n",
    "lr_mse = mean_squared_error(y_test, y_pred)\n",
    "lr_rmse = mean_squared_error(y_test, y_pred, squared=False)\n",
    "lr_mae = mean_absolute_error(y_test, y_pred)\n",
    "lr_r2 = r2_score(y_test, y_pred)"
   ]
  },
  {
   "cell_type": "code",
   "execution_count": 83,
   "id": "4fda8ca3",
   "metadata": {},
   "outputs": [
    {
     "name": "stdout",
     "output_type": "stream",
     "text": [
      "Mean Squared Error: 3.500263141744214e-21\n",
      "Root Mean Squared Error: 5.916302174284385e-11\n",
      "Mean Absolute Error: 5.057047474110732e-11\n",
      "R-squared: 1.0\n"
     ]
    }
   ],
   "source": [
    "# Print the evaluation metrics\n",
    "print(\"Mean Squared Error:\", lr_mse)\n",
    "print(\"Root Mean Squared Error:\", lr_rmse)\n",
    "print(\"Mean Absolute Error:\", lr_mae)\n",
    "print(\"R-squared:\", lr_r2)"
   ]
  },
  {
   "cell_type": "markdown",
   "id": "2630e823",
   "metadata": {},
   "source": [
    "#### we colud see that multiple leniar regression model is predicting the target variable with very high accuracy, which means ovefitting in some cases."
   ]
  },
  {
   "cell_type": "code",
   "execution_count": 84,
   "id": "b8113aa9",
   "metadata": {},
   "outputs": [],
   "source": [
    "# checking for overfitting with cross validation\n",
    "# import necessary libraries\n",
    "from sklearn.model_selection import cross_val_score\n",
    "import numpy as np\n"
   ]
  },
  {
   "cell_type": "code",
   "execution_count": 85,
   "id": "ec34d800",
   "metadata": {},
   "outputs": [],
   "source": [
    "# Assuming 'X' is your feature matrix and 'y' is your target vector\n",
    "model = LinearRegression()\n",
    "scores = cross_val_score(model, X, y, cv=5, scoring='neg_mean_squared_error')"
   ]
  },
  {
   "cell_type": "code",
   "execution_count": 86,
   "id": "320dd254",
   "metadata": {},
   "outputs": [],
   "source": [
    "# Convert negative MSE scores to positive\n",
    "mse_scores = -scores"
   ]
  },
  {
   "cell_type": "code",
   "execution_count": 87,
   "id": "116c3918",
   "metadata": {},
   "outputs": [],
   "source": [
    "# Calculate mean and standard deviation of MSE scores\n",
    "mean_mse = mse_scores.mean()\n",
    "std_mse = mse_scores.std()"
   ]
  },
  {
   "cell_type": "code",
   "execution_count": 88,
   "id": "5c5bebcd",
   "metadata": {},
   "outputs": [
    {
     "name": "stdout",
     "output_type": "stream",
     "text": [
      "Mean MSE: 7.860410055415287e-21\n",
      "Standard Deviation of MSE: 4.670766585721506e-21\n"
     ]
    }
   ],
   "source": [
    "print(\"Mean MSE:\", mean_mse)\n",
    "print(\"Standard Deviation of MSE:\", std_mse)"
   ]
  },
  {
   "cell_type": "code",
   "execution_count": 89,
   "id": "a0d84429",
   "metadata": {},
   "outputs": [],
   "source": [
    "# lets test on new data\n",
    "# Split your data into training and testing sets\n",
    "X_train, X_test, y_train, y_test = train_test_split(X, y, test_size=0.2, random_state=42)"
   ]
  },
  {
   "cell_type": "code",
   "execution_count": 90,
   "id": "6c3d9902",
   "metadata": {},
   "outputs": [
    {
     "data": {
      "text/html": [
       "<style>#sk-container-id-3 {color: black;background-color: white;}#sk-container-id-3 pre{padding: 0;}#sk-container-id-3 div.sk-toggleable {background-color: white;}#sk-container-id-3 label.sk-toggleable__label {cursor: pointer;display: block;width: 100%;margin-bottom: 0;padding: 0.3em;box-sizing: border-box;text-align: center;}#sk-container-id-3 label.sk-toggleable__label-arrow:before {content: \"▸\";float: left;margin-right: 0.25em;color: #696969;}#sk-container-id-3 label.sk-toggleable__label-arrow:hover:before {color: black;}#sk-container-id-3 div.sk-estimator:hover label.sk-toggleable__label-arrow:before {color: black;}#sk-container-id-3 div.sk-toggleable__content {max-height: 0;max-width: 0;overflow: hidden;text-align: left;background-color: #f0f8ff;}#sk-container-id-3 div.sk-toggleable__content pre {margin: 0.2em;color: black;border-radius: 0.25em;background-color: #f0f8ff;}#sk-container-id-3 input.sk-toggleable__control:checked~div.sk-toggleable__content {max-height: 200px;max-width: 100%;overflow: auto;}#sk-container-id-3 input.sk-toggleable__control:checked~label.sk-toggleable__label-arrow:before {content: \"▾\";}#sk-container-id-3 div.sk-estimator input.sk-toggleable__control:checked~label.sk-toggleable__label {background-color: #d4ebff;}#sk-container-id-3 div.sk-label input.sk-toggleable__control:checked~label.sk-toggleable__label {background-color: #d4ebff;}#sk-container-id-3 input.sk-hidden--visually {border: 0;clip: rect(1px 1px 1px 1px);clip: rect(1px, 1px, 1px, 1px);height: 1px;margin: -1px;overflow: hidden;padding: 0;position: absolute;width: 1px;}#sk-container-id-3 div.sk-estimator {font-family: monospace;background-color: #f0f8ff;border: 1px dotted black;border-radius: 0.25em;box-sizing: border-box;margin-bottom: 0.5em;}#sk-container-id-3 div.sk-estimator:hover {background-color: #d4ebff;}#sk-container-id-3 div.sk-parallel-item::after {content: \"\";width: 100%;border-bottom: 1px solid gray;flex-grow: 1;}#sk-container-id-3 div.sk-label:hover label.sk-toggleable__label {background-color: #d4ebff;}#sk-container-id-3 div.sk-serial::before {content: \"\";position: absolute;border-left: 1px solid gray;box-sizing: border-box;top: 0;bottom: 0;left: 50%;z-index: 0;}#sk-container-id-3 div.sk-serial {display: flex;flex-direction: column;align-items: center;background-color: white;padding-right: 0.2em;padding-left: 0.2em;position: relative;}#sk-container-id-3 div.sk-item {position: relative;z-index: 1;}#sk-container-id-3 div.sk-parallel {display: flex;align-items: stretch;justify-content: center;background-color: white;position: relative;}#sk-container-id-3 div.sk-item::before, #sk-container-id-3 div.sk-parallel-item::before {content: \"\";position: absolute;border-left: 1px solid gray;box-sizing: border-box;top: 0;bottom: 0;left: 50%;z-index: -1;}#sk-container-id-3 div.sk-parallel-item {display: flex;flex-direction: column;z-index: 1;position: relative;background-color: white;}#sk-container-id-3 div.sk-parallel-item:first-child::after {align-self: flex-end;width: 50%;}#sk-container-id-3 div.sk-parallel-item:last-child::after {align-self: flex-start;width: 50%;}#sk-container-id-3 div.sk-parallel-item:only-child::after {width: 0;}#sk-container-id-3 div.sk-dashed-wrapped {border: 1px dashed gray;margin: 0 0.4em 0.5em 0.4em;box-sizing: border-box;padding-bottom: 0.4em;background-color: white;}#sk-container-id-3 div.sk-label label {font-family: monospace;font-weight: bold;display: inline-block;line-height: 1.2em;}#sk-container-id-3 div.sk-label-container {text-align: center;}#sk-container-id-3 div.sk-container {/* jupyter's `normalize.less` sets `[hidden] { display: none; }` but bootstrap.min.css set `[hidden] { display: none !important; }` so we also need the `!important` here to be able to override the default hidden behavior on the sphinx rendered scikit-learn.org. See: https://github.com/scikit-learn/scikit-learn/issues/21755 */display: inline-block !important;position: relative;}#sk-container-id-3 div.sk-text-repr-fallback {display: none;}</style><div id=\"sk-container-id-3\" class=\"sk-top-container\"><div class=\"sk-text-repr-fallback\"><pre>LinearRegression()</pre><b>In a Jupyter environment, please rerun this cell to show the HTML representation or trust the notebook. <br />On GitHub, the HTML representation is unable to render, please try loading this page with nbviewer.org.</b></div><div class=\"sk-container\" hidden><div class=\"sk-item\"><div class=\"sk-estimator sk-toggleable\"><input class=\"sk-toggleable__control sk-hidden--visually\" id=\"sk-estimator-id-3\" type=\"checkbox\" checked><label for=\"sk-estimator-id-3\" class=\"sk-toggleable__label sk-toggleable__label-arrow\">LinearRegression</label><div class=\"sk-toggleable__content\"><pre>LinearRegression()</pre></div></div></div></div></div>"
      ],
      "text/plain": [
       "LinearRegression()"
      ]
     },
     "execution_count": 90,
     "metadata": {},
     "output_type": "execute_result"
    }
   ],
   "source": [
    "# Train your model on the training set\n",
    "model.fit(X_train, y_train)"
   ]
  },
  {
   "cell_type": "code",
   "execution_count": 91,
   "id": "10fac009",
   "metadata": {},
   "outputs": [],
   "source": [
    "# Make predictions on the test set\n",
    "y_pred = model.predict(X_test)"
   ]
  },
  {
   "cell_type": "code",
   "execution_count": 92,
   "id": "fb2e084a",
   "metadata": {},
   "outputs": [],
   "source": [
    "# Evaluate the model's performance on the test set using metrics like MSE, RMSE, MAE, R-squared\n",
    "test_mse = mean_squared_error(y_test, y_pred)\n",
    "test_rmse = np.sqrt(test_mse)\n",
    "test_mae = mean_absolute_error(y_test, y_pred)\n",
    "test_r2 = r2_score(y_test, y_pred)"
   ]
  },
  {
   "cell_type": "code",
   "execution_count": 93,
   "id": "3644b53e",
   "metadata": {},
   "outputs": [
    {
     "name": "stdout",
     "output_type": "stream",
     "text": [
      "Test Mean Squared Error: 3.500263141744214e-21\n",
      "Test Root Mean Squared Error: 5.916302174284385e-11\n",
      "Test Mean Absolute Error: 5.057047474110732e-11\n",
      "Test R-squared: 1.0\n"
     ]
    }
   ],
   "source": [
    "print(\"Test Mean Squared Error:\", test_mse)\n",
    "print(\"Test Root Mean Squared Error:\", test_rmse)\n",
    "print(\"Test Mean Absolute Error:\", test_mae)\n",
    "print(\"Test R-squared:\", test_r2)"
   ]
  },
  {
   "cell_type": "markdown",
   "id": "97298a5e",
   "metadata": {},
   "source": [
    "#### while looking the test set we find out that it is not overfitting."
   ]
  },
  {
   "cell_type": "markdown",
   "id": "64b431c6",
   "metadata": {},
   "source": [
    "### Random forest regression"
   ]
  },
  {
   "cell_type": "code",
   "execution_count": 94,
   "id": "7b4b369c",
   "metadata": {},
   "outputs": [],
   "source": [
    "# import necessary libraries\n",
    "from sklearn.ensemble import RandomForestRegressor\n",
    "from sklearn.metrics import mean_squared_error, mean_absolute_error, r2_score"
   ]
  },
  {
   "cell_type": "code",
   "execution_count": 95,
   "id": "42f4d6d2",
   "metadata": {},
   "outputs": [],
   "source": [
    "# Create a Random Forest Regressor model\n",
    "rf_model = RandomForestRegressor()"
   ]
  },
  {
   "cell_type": "code",
   "execution_count": 96,
   "id": "7d0e876e",
   "metadata": {},
   "outputs": [
    {
     "data": {
      "text/html": [
       "<style>#sk-container-id-4 {color: black;background-color: white;}#sk-container-id-4 pre{padding: 0;}#sk-container-id-4 div.sk-toggleable {background-color: white;}#sk-container-id-4 label.sk-toggleable__label {cursor: pointer;display: block;width: 100%;margin-bottom: 0;padding: 0.3em;box-sizing: border-box;text-align: center;}#sk-container-id-4 label.sk-toggleable__label-arrow:before {content: \"▸\";float: left;margin-right: 0.25em;color: #696969;}#sk-container-id-4 label.sk-toggleable__label-arrow:hover:before {color: black;}#sk-container-id-4 div.sk-estimator:hover label.sk-toggleable__label-arrow:before {color: black;}#sk-container-id-4 div.sk-toggleable__content {max-height: 0;max-width: 0;overflow: hidden;text-align: left;background-color: #f0f8ff;}#sk-container-id-4 div.sk-toggleable__content pre {margin: 0.2em;color: black;border-radius: 0.25em;background-color: #f0f8ff;}#sk-container-id-4 input.sk-toggleable__control:checked~div.sk-toggleable__content {max-height: 200px;max-width: 100%;overflow: auto;}#sk-container-id-4 input.sk-toggleable__control:checked~label.sk-toggleable__label-arrow:before {content: \"▾\";}#sk-container-id-4 div.sk-estimator input.sk-toggleable__control:checked~label.sk-toggleable__label {background-color: #d4ebff;}#sk-container-id-4 div.sk-label input.sk-toggleable__control:checked~label.sk-toggleable__label {background-color: #d4ebff;}#sk-container-id-4 input.sk-hidden--visually {border: 0;clip: rect(1px 1px 1px 1px);clip: rect(1px, 1px, 1px, 1px);height: 1px;margin: -1px;overflow: hidden;padding: 0;position: absolute;width: 1px;}#sk-container-id-4 div.sk-estimator {font-family: monospace;background-color: #f0f8ff;border: 1px dotted black;border-radius: 0.25em;box-sizing: border-box;margin-bottom: 0.5em;}#sk-container-id-4 div.sk-estimator:hover {background-color: #d4ebff;}#sk-container-id-4 div.sk-parallel-item::after {content: \"\";width: 100%;border-bottom: 1px solid gray;flex-grow: 1;}#sk-container-id-4 div.sk-label:hover label.sk-toggleable__label {background-color: #d4ebff;}#sk-container-id-4 div.sk-serial::before {content: \"\";position: absolute;border-left: 1px solid gray;box-sizing: border-box;top: 0;bottom: 0;left: 50%;z-index: 0;}#sk-container-id-4 div.sk-serial {display: flex;flex-direction: column;align-items: center;background-color: white;padding-right: 0.2em;padding-left: 0.2em;position: relative;}#sk-container-id-4 div.sk-item {position: relative;z-index: 1;}#sk-container-id-4 div.sk-parallel {display: flex;align-items: stretch;justify-content: center;background-color: white;position: relative;}#sk-container-id-4 div.sk-item::before, #sk-container-id-4 div.sk-parallel-item::before {content: \"\";position: absolute;border-left: 1px solid gray;box-sizing: border-box;top: 0;bottom: 0;left: 50%;z-index: -1;}#sk-container-id-4 div.sk-parallel-item {display: flex;flex-direction: column;z-index: 1;position: relative;background-color: white;}#sk-container-id-4 div.sk-parallel-item:first-child::after {align-self: flex-end;width: 50%;}#sk-container-id-4 div.sk-parallel-item:last-child::after {align-self: flex-start;width: 50%;}#sk-container-id-4 div.sk-parallel-item:only-child::after {width: 0;}#sk-container-id-4 div.sk-dashed-wrapped {border: 1px dashed gray;margin: 0 0.4em 0.5em 0.4em;box-sizing: border-box;padding-bottom: 0.4em;background-color: white;}#sk-container-id-4 div.sk-label label {font-family: monospace;font-weight: bold;display: inline-block;line-height: 1.2em;}#sk-container-id-4 div.sk-label-container {text-align: center;}#sk-container-id-4 div.sk-container {/* jupyter's `normalize.less` sets `[hidden] { display: none; }` but bootstrap.min.css set `[hidden] { display: none !important; }` so we also need the `!important` here to be able to override the default hidden behavior on the sphinx rendered scikit-learn.org. See: https://github.com/scikit-learn/scikit-learn/issues/21755 */display: inline-block !important;position: relative;}#sk-container-id-4 div.sk-text-repr-fallback {display: none;}</style><div id=\"sk-container-id-4\" class=\"sk-top-container\"><div class=\"sk-text-repr-fallback\"><pre>RandomForestRegressor()</pre><b>In a Jupyter environment, please rerun this cell to show the HTML representation or trust the notebook. <br />On GitHub, the HTML representation is unable to render, please try loading this page with nbviewer.org.</b></div><div class=\"sk-container\" hidden><div class=\"sk-item\"><div class=\"sk-estimator sk-toggleable\"><input class=\"sk-toggleable__control sk-hidden--visually\" id=\"sk-estimator-id-4\" type=\"checkbox\" checked><label for=\"sk-estimator-id-4\" class=\"sk-toggleable__label sk-toggleable__label-arrow\">RandomForestRegressor</label><div class=\"sk-toggleable__content\"><pre>RandomForestRegressor()</pre></div></div></div></div></div>"
      ],
      "text/plain": [
       "RandomForestRegressor()"
      ]
     },
     "execution_count": 96,
     "metadata": {},
     "output_type": "execute_result"
    }
   ],
   "source": [
    "# Train the model on the training data\n",
    "rf_model.fit(X_train, y_train)"
   ]
  },
  {
   "cell_type": "code",
   "execution_count": 97,
   "id": "3044ac03",
   "metadata": {},
   "outputs": [],
   "source": [
    "# Predict on the test data\n",
    "y_pred_rf = rf_model.predict(X_test)"
   ]
  },
  {
   "cell_type": "code",
   "execution_count": 98,
   "id": "9caf8e71",
   "metadata": {},
   "outputs": [],
   "source": [
    "# Calculate evaluation metrics\n",
    "rf_mse = mean_squared_error(y_test, y_pred_rf)\n",
    "rf_rmse = np.sqrt(rf_mse)\n",
    "rf_mae = mean_absolute_error(y_test, y_pred_rf)\n",
    "rf_r2 = r2_score(y_test, y_pred_rf)"
   ]
  },
  {
   "cell_type": "code",
   "execution_count": 99,
   "id": "e13072e3",
   "metadata": {},
   "outputs": [
    {
     "name": "stdout",
     "output_type": "stream",
     "text": [
      "Random Forest Regression:\n",
      "Mean Squared Error: 0.20824947456547252\n",
      "Root Mean Squared Error: 0.4563435926639844\n",
      "Mean Absolute Error: 0.13622861500001632\n",
      "R-squared: 0.9999999759278654\n"
     ]
    }
   ],
   "source": [
    "# Print the evaluation metrics\n",
    "print(\"Random Forest Regression:\")\n",
    "print(\"Mean Squared Error:\", rf_mse)\n",
    "print(\"Root Mean Squared Error:\", rf_rmse)\n",
    "print(\"Mean Absolute Error:\", rf_mae)\n",
    "print(\"R-squared:\", rf_r2)"
   ]
  },
  {
   "cell_type": "markdown",
   "id": "336086e2",
   "metadata": {},
   "source": [
    "### Gradient boosting regression"
   ]
  },
  {
   "cell_type": "code",
   "execution_count": 100,
   "id": "cadcb05c",
   "metadata": {},
   "outputs": [],
   "source": [
    "# import necessary libraries\n",
    "from sklearn.ensemble import GradientBoostingRegressor"
   ]
  },
  {
   "cell_type": "code",
   "execution_count": 101,
   "id": "c445a9b1",
   "metadata": {},
   "outputs": [],
   "source": [
    "# Create a Gradient Boosting Regressor model\n",
    "gb_model = GradientBoostingRegressor()"
   ]
  },
  {
   "cell_type": "code",
   "execution_count": 102,
   "id": "9046b762",
   "metadata": {},
   "outputs": [
    {
     "data": {
      "text/html": [
       "<style>#sk-container-id-5 {color: black;background-color: white;}#sk-container-id-5 pre{padding: 0;}#sk-container-id-5 div.sk-toggleable {background-color: white;}#sk-container-id-5 label.sk-toggleable__label {cursor: pointer;display: block;width: 100%;margin-bottom: 0;padding: 0.3em;box-sizing: border-box;text-align: center;}#sk-container-id-5 label.sk-toggleable__label-arrow:before {content: \"▸\";float: left;margin-right: 0.25em;color: #696969;}#sk-container-id-5 label.sk-toggleable__label-arrow:hover:before {color: black;}#sk-container-id-5 div.sk-estimator:hover label.sk-toggleable__label-arrow:before {color: black;}#sk-container-id-5 div.sk-toggleable__content {max-height: 0;max-width: 0;overflow: hidden;text-align: left;background-color: #f0f8ff;}#sk-container-id-5 div.sk-toggleable__content pre {margin: 0.2em;color: black;border-radius: 0.25em;background-color: #f0f8ff;}#sk-container-id-5 input.sk-toggleable__control:checked~div.sk-toggleable__content {max-height: 200px;max-width: 100%;overflow: auto;}#sk-container-id-5 input.sk-toggleable__control:checked~label.sk-toggleable__label-arrow:before {content: \"▾\";}#sk-container-id-5 div.sk-estimator input.sk-toggleable__control:checked~label.sk-toggleable__label {background-color: #d4ebff;}#sk-container-id-5 div.sk-label input.sk-toggleable__control:checked~label.sk-toggleable__label {background-color: #d4ebff;}#sk-container-id-5 input.sk-hidden--visually {border: 0;clip: rect(1px 1px 1px 1px);clip: rect(1px, 1px, 1px, 1px);height: 1px;margin: -1px;overflow: hidden;padding: 0;position: absolute;width: 1px;}#sk-container-id-5 div.sk-estimator {font-family: monospace;background-color: #f0f8ff;border: 1px dotted black;border-radius: 0.25em;box-sizing: border-box;margin-bottom: 0.5em;}#sk-container-id-5 div.sk-estimator:hover {background-color: #d4ebff;}#sk-container-id-5 div.sk-parallel-item::after {content: \"\";width: 100%;border-bottom: 1px solid gray;flex-grow: 1;}#sk-container-id-5 div.sk-label:hover label.sk-toggleable__label {background-color: #d4ebff;}#sk-container-id-5 div.sk-serial::before {content: \"\";position: absolute;border-left: 1px solid gray;box-sizing: border-box;top: 0;bottom: 0;left: 50%;z-index: 0;}#sk-container-id-5 div.sk-serial {display: flex;flex-direction: column;align-items: center;background-color: white;padding-right: 0.2em;padding-left: 0.2em;position: relative;}#sk-container-id-5 div.sk-item {position: relative;z-index: 1;}#sk-container-id-5 div.sk-parallel {display: flex;align-items: stretch;justify-content: center;background-color: white;position: relative;}#sk-container-id-5 div.sk-item::before, #sk-container-id-5 div.sk-parallel-item::before {content: \"\";position: absolute;border-left: 1px solid gray;box-sizing: border-box;top: 0;bottom: 0;left: 50%;z-index: -1;}#sk-container-id-5 div.sk-parallel-item {display: flex;flex-direction: column;z-index: 1;position: relative;background-color: white;}#sk-container-id-5 div.sk-parallel-item:first-child::after {align-self: flex-end;width: 50%;}#sk-container-id-5 div.sk-parallel-item:last-child::after {align-self: flex-start;width: 50%;}#sk-container-id-5 div.sk-parallel-item:only-child::after {width: 0;}#sk-container-id-5 div.sk-dashed-wrapped {border: 1px dashed gray;margin: 0 0.4em 0.5em 0.4em;box-sizing: border-box;padding-bottom: 0.4em;background-color: white;}#sk-container-id-5 div.sk-label label {font-family: monospace;font-weight: bold;display: inline-block;line-height: 1.2em;}#sk-container-id-5 div.sk-label-container {text-align: center;}#sk-container-id-5 div.sk-container {/* jupyter's `normalize.less` sets `[hidden] { display: none; }` but bootstrap.min.css set `[hidden] { display: none !important; }` so we also need the `!important` here to be able to override the default hidden behavior on the sphinx rendered scikit-learn.org. See: https://github.com/scikit-learn/scikit-learn/issues/21755 */display: inline-block !important;position: relative;}#sk-container-id-5 div.sk-text-repr-fallback {display: none;}</style><div id=\"sk-container-id-5\" class=\"sk-top-container\"><div class=\"sk-text-repr-fallback\"><pre>GradientBoostingRegressor()</pre><b>In a Jupyter environment, please rerun this cell to show the HTML representation or trust the notebook. <br />On GitHub, the HTML representation is unable to render, please try loading this page with nbviewer.org.</b></div><div class=\"sk-container\" hidden><div class=\"sk-item\"><div class=\"sk-estimator sk-toggleable\"><input class=\"sk-toggleable__control sk-hidden--visually\" id=\"sk-estimator-id-5\" type=\"checkbox\" checked><label for=\"sk-estimator-id-5\" class=\"sk-toggleable__label sk-toggleable__label-arrow\">GradientBoostingRegressor</label><div class=\"sk-toggleable__content\"><pre>GradientBoostingRegressor()</pre></div></div></div></div></div>"
      ],
      "text/plain": [
       "GradientBoostingRegressor()"
      ]
     },
     "execution_count": 102,
     "metadata": {},
     "output_type": "execute_result"
    }
   ],
   "source": [
    "# Train the model on the training data\n",
    "gb_model.fit(X_train_scaled, y_train)"
   ]
  },
  {
   "cell_type": "code",
   "execution_count": 103,
   "id": "12c25f82",
   "metadata": {},
   "outputs": [],
   "source": [
    "# Predict on the test data\n",
    "gb_y_pred = gb_model.predict(X_test_scaled)"
   ]
  },
  {
   "cell_type": "code",
   "execution_count": 104,
   "id": "05563b75",
   "metadata": {},
   "outputs": [],
   "source": [
    "# Evaluate the model's performance\n",
    "gb_mse = mean_squared_error(y_test, gb_y_pred)\n",
    "gb_rmse = np.sqrt(gb_mse)\n",
    "gb_mae = mean_absolute_error(y_test, gb_y_pred)\n",
    "gb_r2 = r2_score(y_test, gb_y_pred)"
   ]
  },
  {
   "cell_type": "code",
   "execution_count": 105,
   "id": "785ee282",
   "metadata": {},
   "outputs": [
    {
     "name": "stdout",
     "output_type": "stream",
     "text": [
      "Gradient Boosting Regression:\n",
      "Mean Squared Error: 621.6918018079459\n",
      "Root Mean Squared Error: 24.933748250272078\n",
      "Mean Absolute Error: 19.168102038950877\n",
      "R-squared: 0.9999281369195909\n"
     ]
    }
   ],
   "source": [
    "# Print the evaluation metrics\n",
    "print(\"Gradient Boosting Regression:\")\n",
    "print(\"Mean Squared Error:\", gb_mse)\n",
    "print(\"Root Mean Squared Error:\", gb_rmse)\n",
    "print(\"Mean Absolute Error:\", gb_mae)\n",
    "print(\"R-squared:\", gb_r2)"
   ]
  },
  {
   "cell_type": "markdown",
   "id": "e2b687bd",
   "metadata": {},
   "source": [
    "### Support vector machine"
   ]
  },
  {
   "cell_type": "code",
   "execution_count": 106,
   "id": "8953bd54",
   "metadata": {},
   "outputs": [],
   "source": [
    "# import necessary libraries\n",
    "from sklearn.svm import SVR"
   ]
  },
  {
   "cell_type": "code",
   "execution_count": 107,
   "id": "e6fcce80",
   "metadata": {},
   "outputs": [],
   "source": [
    "# Create an SVR model\n",
    "svr_model = SVR()"
   ]
  },
  {
   "cell_type": "code",
   "execution_count": 108,
   "id": "55402fa2",
   "metadata": {},
   "outputs": [
    {
     "data": {
      "text/html": [
       "<style>#sk-container-id-6 {color: black;background-color: white;}#sk-container-id-6 pre{padding: 0;}#sk-container-id-6 div.sk-toggleable {background-color: white;}#sk-container-id-6 label.sk-toggleable__label {cursor: pointer;display: block;width: 100%;margin-bottom: 0;padding: 0.3em;box-sizing: border-box;text-align: center;}#sk-container-id-6 label.sk-toggleable__label-arrow:before {content: \"▸\";float: left;margin-right: 0.25em;color: #696969;}#sk-container-id-6 label.sk-toggleable__label-arrow:hover:before {color: black;}#sk-container-id-6 div.sk-estimator:hover label.sk-toggleable__label-arrow:before {color: black;}#sk-container-id-6 div.sk-toggleable__content {max-height: 0;max-width: 0;overflow: hidden;text-align: left;background-color: #f0f8ff;}#sk-container-id-6 div.sk-toggleable__content pre {margin: 0.2em;color: black;border-radius: 0.25em;background-color: #f0f8ff;}#sk-container-id-6 input.sk-toggleable__control:checked~div.sk-toggleable__content {max-height: 200px;max-width: 100%;overflow: auto;}#sk-container-id-6 input.sk-toggleable__control:checked~label.sk-toggleable__label-arrow:before {content: \"▾\";}#sk-container-id-6 div.sk-estimator input.sk-toggleable__control:checked~label.sk-toggleable__label {background-color: #d4ebff;}#sk-container-id-6 div.sk-label input.sk-toggleable__control:checked~label.sk-toggleable__label {background-color: #d4ebff;}#sk-container-id-6 input.sk-hidden--visually {border: 0;clip: rect(1px 1px 1px 1px);clip: rect(1px, 1px, 1px, 1px);height: 1px;margin: -1px;overflow: hidden;padding: 0;position: absolute;width: 1px;}#sk-container-id-6 div.sk-estimator {font-family: monospace;background-color: #f0f8ff;border: 1px dotted black;border-radius: 0.25em;box-sizing: border-box;margin-bottom: 0.5em;}#sk-container-id-6 div.sk-estimator:hover {background-color: #d4ebff;}#sk-container-id-6 div.sk-parallel-item::after {content: \"\";width: 100%;border-bottom: 1px solid gray;flex-grow: 1;}#sk-container-id-6 div.sk-label:hover label.sk-toggleable__label {background-color: #d4ebff;}#sk-container-id-6 div.sk-serial::before {content: \"\";position: absolute;border-left: 1px solid gray;box-sizing: border-box;top: 0;bottom: 0;left: 50%;z-index: 0;}#sk-container-id-6 div.sk-serial {display: flex;flex-direction: column;align-items: center;background-color: white;padding-right: 0.2em;padding-left: 0.2em;position: relative;}#sk-container-id-6 div.sk-item {position: relative;z-index: 1;}#sk-container-id-6 div.sk-parallel {display: flex;align-items: stretch;justify-content: center;background-color: white;position: relative;}#sk-container-id-6 div.sk-item::before, #sk-container-id-6 div.sk-parallel-item::before {content: \"\";position: absolute;border-left: 1px solid gray;box-sizing: border-box;top: 0;bottom: 0;left: 50%;z-index: -1;}#sk-container-id-6 div.sk-parallel-item {display: flex;flex-direction: column;z-index: 1;position: relative;background-color: white;}#sk-container-id-6 div.sk-parallel-item:first-child::after {align-self: flex-end;width: 50%;}#sk-container-id-6 div.sk-parallel-item:last-child::after {align-self: flex-start;width: 50%;}#sk-container-id-6 div.sk-parallel-item:only-child::after {width: 0;}#sk-container-id-6 div.sk-dashed-wrapped {border: 1px dashed gray;margin: 0 0.4em 0.5em 0.4em;box-sizing: border-box;padding-bottom: 0.4em;background-color: white;}#sk-container-id-6 div.sk-label label {font-family: monospace;font-weight: bold;display: inline-block;line-height: 1.2em;}#sk-container-id-6 div.sk-label-container {text-align: center;}#sk-container-id-6 div.sk-container {/* jupyter's `normalize.less` sets `[hidden] { display: none; }` but bootstrap.min.css set `[hidden] { display: none !important; }` so we also need the `!important` here to be able to override the default hidden behavior on the sphinx rendered scikit-learn.org. See: https://github.com/scikit-learn/scikit-learn/issues/21755 */display: inline-block !important;position: relative;}#sk-container-id-6 div.sk-text-repr-fallback {display: none;}</style><div id=\"sk-container-id-6\" class=\"sk-top-container\"><div class=\"sk-text-repr-fallback\"><pre>SVR()</pre><b>In a Jupyter environment, please rerun this cell to show the HTML representation or trust the notebook. <br />On GitHub, the HTML representation is unable to render, please try loading this page with nbviewer.org.</b></div><div class=\"sk-container\" hidden><div class=\"sk-item\"><div class=\"sk-estimator sk-toggleable\"><input class=\"sk-toggleable__control sk-hidden--visually\" id=\"sk-estimator-id-6\" type=\"checkbox\" checked><label for=\"sk-estimator-id-6\" class=\"sk-toggleable__label sk-toggleable__label-arrow\">SVR</label><div class=\"sk-toggleable__content\"><pre>SVR()</pre></div></div></div></div></div>"
      ],
      "text/plain": [
       "SVR()"
      ]
     },
     "execution_count": 108,
     "metadata": {},
     "output_type": "execute_result"
    }
   ],
   "source": [
    "# Fit the model on the training data\n",
    "svr_model.fit(X_train_scaled, y_train)"
   ]
  },
  {
   "cell_type": "code",
   "execution_count": 109,
   "id": "706c6827",
   "metadata": {},
   "outputs": [],
   "source": [
    "# Predict on the test data\n",
    "svr_y_pred = svr_model.predict(X_test_scaled)"
   ]
  },
  {
   "cell_type": "code",
   "execution_count": 110,
   "id": "85ae15a8",
   "metadata": {},
   "outputs": [],
   "source": [
    "# Calculate evaluation metrics\n",
    "svr_mse = mean_squared_error(y_test, svr_y_pred)\n",
    "svr_rmse = np.sqrt(svr_mse)\n",
    "svr_mae = mean_absolute_error(y_test, svr_y_pred)\n",
    "svr_r2 = r2_score(y_test, svr_y_pred)"
   ]
  },
  {
   "cell_type": "code",
   "execution_count": 111,
   "id": "5f706d0a",
   "metadata": {},
   "outputs": [
    {
     "name": "stdout",
     "output_type": "stream",
     "text": [
      "Support Vector Regression:\n",
      "Mean Squared Error: 794447.87298954\n",
      "Root Mean Squared Error: 891.3180537774044\n",
      "Mean Absolute Error: 572.782223563767\n",
      "R-squared: 0.9081675659684886\n"
     ]
    }
   ],
   "source": [
    "# Print the evaluation metrics\n",
    "print(\"Support Vector Regression:\")\n",
    "print(\"Mean Squared Error:\", svr_mse)\n",
    "print(\"Root Mean Squared Error:\", svr_rmse)\n",
    "print(\"Mean Absolute Error:\", svr_mae)\n",
    "print(\"R-squared:\", svr_r2)"
   ]
  },
  {
   "cell_type": "markdown",
   "id": "b2f981f7",
   "metadata": {},
   "source": [
    "### Descion trees regression"
   ]
  },
  {
   "cell_type": "code",
   "execution_count": 112,
   "id": "3ebce02c",
   "metadata": {},
   "outputs": [],
   "source": [
    "# import necessary libraries\n",
    "from sklearn.tree import DecisionTreeRegressor"
   ]
  },
  {
   "cell_type": "code",
   "execution_count": 113,
   "id": "2eb757f4",
   "metadata": {},
   "outputs": [],
   "source": [
    "# Create a Decision Trees model\n",
    "dt_model = DecisionTreeRegressor(random_state=0)"
   ]
  },
  {
   "cell_type": "code",
   "execution_count": 114,
   "id": "613db641",
   "metadata": {},
   "outputs": [
    {
     "data": {
      "text/html": [
       "<style>#sk-container-id-7 {color: black;background-color: white;}#sk-container-id-7 pre{padding: 0;}#sk-container-id-7 div.sk-toggleable {background-color: white;}#sk-container-id-7 label.sk-toggleable__label {cursor: pointer;display: block;width: 100%;margin-bottom: 0;padding: 0.3em;box-sizing: border-box;text-align: center;}#sk-container-id-7 label.sk-toggleable__label-arrow:before {content: \"▸\";float: left;margin-right: 0.25em;color: #696969;}#sk-container-id-7 label.sk-toggleable__label-arrow:hover:before {color: black;}#sk-container-id-7 div.sk-estimator:hover label.sk-toggleable__label-arrow:before {color: black;}#sk-container-id-7 div.sk-toggleable__content {max-height: 0;max-width: 0;overflow: hidden;text-align: left;background-color: #f0f8ff;}#sk-container-id-7 div.sk-toggleable__content pre {margin: 0.2em;color: black;border-radius: 0.25em;background-color: #f0f8ff;}#sk-container-id-7 input.sk-toggleable__control:checked~div.sk-toggleable__content {max-height: 200px;max-width: 100%;overflow: auto;}#sk-container-id-7 input.sk-toggleable__control:checked~label.sk-toggleable__label-arrow:before {content: \"▾\";}#sk-container-id-7 div.sk-estimator input.sk-toggleable__control:checked~label.sk-toggleable__label {background-color: #d4ebff;}#sk-container-id-7 div.sk-label input.sk-toggleable__control:checked~label.sk-toggleable__label {background-color: #d4ebff;}#sk-container-id-7 input.sk-hidden--visually {border: 0;clip: rect(1px 1px 1px 1px);clip: rect(1px, 1px, 1px, 1px);height: 1px;margin: -1px;overflow: hidden;padding: 0;position: absolute;width: 1px;}#sk-container-id-7 div.sk-estimator {font-family: monospace;background-color: #f0f8ff;border: 1px dotted black;border-radius: 0.25em;box-sizing: border-box;margin-bottom: 0.5em;}#sk-container-id-7 div.sk-estimator:hover {background-color: #d4ebff;}#sk-container-id-7 div.sk-parallel-item::after {content: \"\";width: 100%;border-bottom: 1px solid gray;flex-grow: 1;}#sk-container-id-7 div.sk-label:hover label.sk-toggleable__label {background-color: #d4ebff;}#sk-container-id-7 div.sk-serial::before {content: \"\";position: absolute;border-left: 1px solid gray;box-sizing: border-box;top: 0;bottom: 0;left: 50%;z-index: 0;}#sk-container-id-7 div.sk-serial {display: flex;flex-direction: column;align-items: center;background-color: white;padding-right: 0.2em;padding-left: 0.2em;position: relative;}#sk-container-id-7 div.sk-item {position: relative;z-index: 1;}#sk-container-id-7 div.sk-parallel {display: flex;align-items: stretch;justify-content: center;background-color: white;position: relative;}#sk-container-id-7 div.sk-item::before, #sk-container-id-7 div.sk-parallel-item::before {content: \"\";position: absolute;border-left: 1px solid gray;box-sizing: border-box;top: 0;bottom: 0;left: 50%;z-index: -1;}#sk-container-id-7 div.sk-parallel-item {display: flex;flex-direction: column;z-index: 1;position: relative;background-color: white;}#sk-container-id-7 div.sk-parallel-item:first-child::after {align-self: flex-end;width: 50%;}#sk-container-id-7 div.sk-parallel-item:last-child::after {align-self: flex-start;width: 50%;}#sk-container-id-7 div.sk-parallel-item:only-child::after {width: 0;}#sk-container-id-7 div.sk-dashed-wrapped {border: 1px dashed gray;margin: 0 0.4em 0.5em 0.4em;box-sizing: border-box;padding-bottom: 0.4em;background-color: white;}#sk-container-id-7 div.sk-label label {font-family: monospace;font-weight: bold;display: inline-block;line-height: 1.2em;}#sk-container-id-7 div.sk-label-container {text-align: center;}#sk-container-id-7 div.sk-container {/* jupyter's `normalize.less` sets `[hidden] { display: none; }` but bootstrap.min.css set `[hidden] { display: none !important; }` so we also need the `!important` here to be able to override the default hidden behavior on the sphinx rendered scikit-learn.org. See: https://github.com/scikit-learn/scikit-learn/issues/21755 */display: inline-block !important;position: relative;}#sk-container-id-7 div.sk-text-repr-fallback {display: none;}</style><div id=\"sk-container-id-7\" class=\"sk-top-container\"><div class=\"sk-text-repr-fallback\"><pre>DecisionTreeRegressor(random_state=0)</pre><b>In a Jupyter environment, please rerun this cell to show the HTML representation or trust the notebook. <br />On GitHub, the HTML representation is unable to render, please try loading this page with nbviewer.org.</b></div><div class=\"sk-container\" hidden><div class=\"sk-item\"><div class=\"sk-estimator sk-toggleable\"><input class=\"sk-toggleable__control sk-hidden--visually\" id=\"sk-estimator-id-7\" type=\"checkbox\" checked><label for=\"sk-estimator-id-7\" class=\"sk-toggleable__label sk-toggleable__label-arrow\">DecisionTreeRegressor</label><div class=\"sk-toggleable__content\"><pre>DecisionTreeRegressor(random_state=0)</pre></div></div></div></div></div>"
      ],
      "text/plain": [
       "DecisionTreeRegressor(random_state=0)"
      ]
     },
     "execution_count": 114,
     "metadata": {},
     "output_type": "execute_result"
    }
   ],
   "source": [
    "# Train the model on the training data\n",
    "dt_model.fit(X_train_scaled, y_train)"
   ]
  },
  {
   "cell_type": "code",
   "execution_count": 115,
   "id": "f79fd7c7",
   "metadata": {},
   "outputs": [],
   "source": [
    "# Predict the target values on the test set\n",
    "dt_y_pred = dt_model.predict(X_test_scaled)"
   ]
  },
  {
   "cell_type": "code",
   "execution_count": 116,
   "id": "b0f65cda",
   "metadata": {},
   "outputs": [],
   "source": [
    "# Calculate evaluation metrics\n",
    "dt_mse = mean_squared_error(y_test, dt_y_pred)\n",
    "dt_rmse = np.sqrt(dt_mse)\n",
    "dt_mae = mean_absolute_error(y_test, dt_y_pred)\n",
    "dt_r2 = r2_score(y_test, dt_y_pred)"
   ]
  },
  {
   "cell_type": "code",
   "execution_count": 117,
   "id": "8f3e85eb",
   "metadata": {},
   "outputs": [
    {
     "name": "stdout",
     "output_type": "stream",
     "text": [
      "Decision Trees Regression:\n",
      "Mean Squared Error: 0.674735985000024\n",
      "Root Mean Squared Error: 0.8214231461311666\n",
      "Mean Absolute Error: 0.2606905000000019\n",
      "R-squared: 0.9999999220053952\n"
     ]
    }
   ],
   "source": [
    "# Print the evaluation metrics\n",
    "print(\"Decision Trees Regression:\")\n",
    "print(\"Mean Squared Error:\", dt_mse)\n",
    "print(\"Root Mean Squared Error:\", dt_rmse)\n",
    "print(\"Mean Absolute Error:\", dt_mae)\n",
    "print(\"R-squared:\", dt_r2)"
   ]
  },
  {
   "cell_type": "markdown",
   "id": "55dce2be",
   "metadata": {},
   "source": [
    "### Lasso and ridge regression"
   ]
  },
  {
   "cell_type": "markdown",
   "id": "186b44a6",
   "metadata": {},
   "source": [
    "#### It is used to prevent overfitting and improve the models general ability."
   ]
  },
  {
   "cell_type": "code",
   "execution_count": 118,
   "id": "2f0da0bd",
   "metadata": {},
   "outputs": [],
   "source": [
    "# Import necessary libraries\n",
    "from sklearn.linear_model import Lasso, Ridge"
   ]
  },
  {
   "cell_type": "code",
   "execution_count": 119,
   "id": "9983b2e7",
   "metadata": {},
   "outputs": [],
   "source": [
    "# Create Lasso and Ridge regression models\n",
    "lasso_model = Lasso(alpha=0.01)\n",
    "ridge_model = Ridge(alpha=0.01)"
   ]
  },
  {
   "cell_type": "code",
   "execution_count": 120,
   "id": "d5637cca",
   "metadata": {},
   "outputs": [
    {
     "data": {
      "text/html": [
       "<style>#sk-container-id-8 {color: black;background-color: white;}#sk-container-id-8 pre{padding: 0;}#sk-container-id-8 div.sk-toggleable {background-color: white;}#sk-container-id-8 label.sk-toggleable__label {cursor: pointer;display: block;width: 100%;margin-bottom: 0;padding: 0.3em;box-sizing: border-box;text-align: center;}#sk-container-id-8 label.sk-toggleable__label-arrow:before {content: \"▸\";float: left;margin-right: 0.25em;color: #696969;}#sk-container-id-8 label.sk-toggleable__label-arrow:hover:before {color: black;}#sk-container-id-8 div.sk-estimator:hover label.sk-toggleable__label-arrow:before {color: black;}#sk-container-id-8 div.sk-toggleable__content {max-height: 0;max-width: 0;overflow: hidden;text-align: left;background-color: #f0f8ff;}#sk-container-id-8 div.sk-toggleable__content pre {margin: 0.2em;color: black;border-radius: 0.25em;background-color: #f0f8ff;}#sk-container-id-8 input.sk-toggleable__control:checked~div.sk-toggleable__content {max-height: 200px;max-width: 100%;overflow: auto;}#sk-container-id-8 input.sk-toggleable__control:checked~label.sk-toggleable__label-arrow:before {content: \"▾\";}#sk-container-id-8 div.sk-estimator input.sk-toggleable__control:checked~label.sk-toggleable__label {background-color: #d4ebff;}#sk-container-id-8 div.sk-label input.sk-toggleable__control:checked~label.sk-toggleable__label {background-color: #d4ebff;}#sk-container-id-8 input.sk-hidden--visually {border: 0;clip: rect(1px 1px 1px 1px);clip: rect(1px, 1px, 1px, 1px);height: 1px;margin: -1px;overflow: hidden;padding: 0;position: absolute;width: 1px;}#sk-container-id-8 div.sk-estimator {font-family: monospace;background-color: #f0f8ff;border: 1px dotted black;border-radius: 0.25em;box-sizing: border-box;margin-bottom: 0.5em;}#sk-container-id-8 div.sk-estimator:hover {background-color: #d4ebff;}#sk-container-id-8 div.sk-parallel-item::after {content: \"\";width: 100%;border-bottom: 1px solid gray;flex-grow: 1;}#sk-container-id-8 div.sk-label:hover label.sk-toggleable__label {background-color: #d4ebff;}#sk-container-id-8 div.sk-serial::before {content: \"\";position: absolute;border-left: 1px solid gray;box-sizing: border-box;top: 0;bottom: 0;left: 50%;z-index: 0;}#sk-container-id-8 div.sk-serial {display: flex;flex-direction: column;align-items: center;background-color: white;padding-right: 0.2em;padding-left: 0.2em;position: relative;}#sk-container-id-8 div.sk-item {position: relative;z-index: 1;}#sk-container-id-8 div.sk-parallel {display: flex;align-items: stretch;justify-content: center;background-color: white;position: relative;}#sk-container-id-8 div.sk-item::before, #sk-container-id-8 div.sk-parallel-item::before {content: \"\";position: absolute;border-left: 1px solid gray;box-sizing: border-box;top: 0;bottom: 0;left: 50%;z-index: -1;}#sk-container-id-8 div.sk-parallel-item {display: flex;flex-direction: column;z-index: 1;position: relative;background-color: white;}#sk-container-id-8 div.sk-parallel-item:first-child::after {align-self: flex-end;width: 50%;}#sk-container-id-8 div.sk-parallel-item:last-child::after {align-self: flex-start;width: 50%;}#sk-container-id-8 div.sk-parallel-item:only-child::after {width: 0;}#sk-container-id-8 div.sk-dashed-wrapped {border: 1px dashed gray;margin: 0 0.4em 0.5em 0.4em;box-sizing: border-box;padding-bottom: 0.4em;background-color: white;}#sk-container-id-8 div.sk-label label {font-family: monospace;font-weight: bold;display: inline-block;line-height: 1.2em;}#sk-container-id-8 div.sk-label-container {text-align: center;}#sk-container-id-8 div.sk-container {/* jupyter's `normalize.less` sets `[hidden] { display: none; }` but bootstrap.min.css set `[hidden] { display: none !important; }` so we also need the `!important` here to be able to override the default hidden behavior on the sphinx rendered scikit-learn.org. See: https://github.com/scikit-learn/scikit-learn/issues/21755 */display: inline-block !important;position: relative;}#sk-container-id-8 div.sk-text-repr-fallback {display: none;}</style><div id=\"sk-container-id-8\" class=\"sk-top-container\"><div class=\"sk-text-repr-fallback\"><pre>Ridge(alpha=0.01)</pre><b>In a Jupyter environment, please rerun this cell to show the HTML representation or trust the notebook. <br />On GitHub, the HTML representation is unable to render, please try loading this page with nbviewer.org.</b></div><div class=\"sk-container\" hidden><div class=\"sk-item\"><div class=\"sk-estimator sk-toggleable\"><input class=\"sk-toggleable__control sk-hidden--visually\" id=\"sk-estimator-id-8\" type=\"checkbox\" checked><label for=\"sk-estimator-id-8\" class=\"sk-toggleable__label sk-toggleable__label-arrow\">Ridge</label><div class=\"sk-toggleable__content\"><pre>Ridge(alpha=0.01)</pre></div></div></div></div></div>"
      ],
      "text/plain": [
       "Ridge(alpha=0.01)"
      ]
     },
     "execution_count": 120,
     "metadata": {},
     "output_type": "execute_result"
    }
   ],
   "source": [
    "# Fit the models to the training data\n",
    "lasso_model.fit(X_train_scaled, y_train)\n",
    "ridge_model.fit(X_train_scaled, y_train)"
   ]
  },
  {
   "cell_type": "code",
   "execution_count": 121,
   "id": "3409cef9",
   "metadata": {},
   "outputs": [],
   "source": [
    "# Predict on the test data\n",
    "lasso_pred = lasso_model.predict(X_test_scaled)\n",
    "ridge_pred = ridge_model.predict(X_test_scaled)"
   ]
  },
  {
   "cell_type": "code",
   "execution_count": 122,
   "id": "e7d55b25",
   "metadata": {},
   "outputs": [],
   "source": [
    "# Evaluate the models\n",
    "lasso_mse = mean_squared_error(y_test, lasso_pred)\n",
    "lasso_rmse = np.sqrt(lasso_mse)\n",
    "lasso_mae = mean_absolute_error(y_test, lasso_pred)\n",
    "lasso_r2 = r2_score(y_test, lasso_pred)"
   ]
  },
  {
   "cell_type": "code",
   "execution_count": 123,
   "id": "3a6beff3",
   "metadata": {},
   "outputs": [],
   "source": [
    "ridge_mse = mean_squared_error(y_test, ridge_pred)\n",
    "ridge_rmse = np.sqrt(ridge_mse)\n",
    "ridge_mae = mean_absolute_error(y_test, ridge_pred)\n",
    "ridge_r2 = r2_score(y_test, ridge_pred)"
   ]
  },
  {
   "cell_type": "code",
   "execution_count": 124,
   "id": "a37cd55c",
   "metadata": {},
   "outputs": [
    {
     "name": "stdout",
     "output_type": "stream",
     "text": [
      "Lasso Regression:\n",
      "Mean Squared Error: 0.00040208202662998056\n",
      "Root Mean Squared Error: 0.020051983109657272\n",
      "Mean Absolute Error: 0.016223546843589634\n",
      "R-squared: 0.9999999999535222\n"
     ]
    }
   ],
   "source": [
    "# Print the evaluation metrics for Lasso regression\n",
    "print(\"Lasso Regression:\")\n",
    "print(\"Mean Squared Error:\", lasso_mse)\n",
    "print(\"Root Mean Squared Error:\", lasso_rmse)\n",
    "print(\"Mean Absolute Error:\", lasso_mae)\n",
    "print(\"R-squared:\", lasso_r2)"
   ]
  },
  {
   "cell_type": "code",
   "execution_count": 125,
   "id": "336f4baf",
   "metadata": {},
   "outputs": [
    {
     "name": "stdout",
     "output_type": "stream",
     "text": [
      "\n",
      "Ridge Regression:\n",
      "Mean Squared Error: 1.502255648127794e-08\n",
      "Root Mean Squared Error: 0.0001225665389952655\n",
      "Mean Absolute Error: 0.00010254790222390966\n",
      "R-squared: 0.9999999999999982\n"
     ]
    }
   ],
   "source": [
    "# Print the evaluation metrics for Ridge regression\n",
    "print(\"\\nRidge Regression:\")\n",
    "print(\"Mean Squared Error:\", ridge_mse)\n",
    "print(\"Root Mean Squared Error:\", ridge_rmse)\n",
    "print(\"Mean Absolute Error:\", ridge_mae)\n",
    "print(\"R-squared:\", ridge_r2)"
   ]
  },
  {
   "cell_type": "markdown",
   "id": "f3115651",
   "metadata": {},
   "source": [
    "### Elastic Net Regression"
   ]
  },
  {
   "cell_type": "code",
   "execution_count": 126,
   "id": "7b83b8fe",
   "metadata": {},
   "outputs": [],
   "source": [
    "# import necessary libraries\n",
    "from sklearn.linear_model import ElasticNet\n",
    "from sklearn.model_selection import cross_val_score"
   ]
  },
  {
   "cell_type": "code",
   "execution_count": 127,
   "id": "ea267779",
   "metadata": {},
   "outputs": [],
   "source": [
    "# Create an instance of the Elastic Net model with Lasso (L1) regularization\n",
    "lasso_model = ElasticNet(alpha=0.1, l1_ratio=1.0)"
   ]
  },
  {
   "cell_type": "code",
   "execution_count": 128,
   "id": "6bfc00b7",
   "metadata": {},
   "outputs": [],
   "source": [
    "# Perform cross-validation for Lasso regression\n",
    "lasso_scores = cross_val_score(lasso_model, X_train, y_train, scoring='neg_mean_squared_error', cv=5)\n",
    "lasso_rmse_scores = np.sqrt(-lasso_scores)"
   ]
  },
  {
   "cell_type": "code",
   "execution_count": 129,
   "id": "aae7e8a2",
   "metadata": {},
   "outputs": [],
   "source": [
    "# Create an instance of the Elastic Net model with Ridge (L2) regularization\n",
    "ridge_model = ElasticNet(alpha=0.1, l1_ratio=0.0)"
   ]
  },
  {
   "cell_type": "code",
   "execution_count": 130,
   "id": "fd8589f2",
   "metadata": {},
   "outputs": [],
   "source": [
    "# Perform cross-validation for Ridge regression\n",
    "ridge_scores = cross_val_score(ridge_model, X_train, y_train, scoring='neg_mean_squared_error', cv=5)\n",
    "ridge_rmse_scores = np.sqrt(-ridge_scores)"
   ]
  },
  {
   "cell_type": "code",
   "execution_count": 131,
   "id": "00bfd75f",
   "metadata": {},
   "outputs": [],
   "source": [
    "# Calculate the mean RMSE scores for Lasso and Ridge\n",
    "mean_lasso_rmse = lasso_rmse_scores.mean()\n",
    "mean_ridge_rmse = ridge_rmse_scores.mean()"
   ]
  },
  {
   "cell_type": "code",
   "execution_count": 132,
   "id": "3ee056f7",
   "metadata": {},
   "outputs": [
    {
     "name": "stdout",
     "output_type": "stream",
     "text": [
      "Mean RMSE for Lasso: 0.00020242306978898554\n",
      "Mean RMSE for Ridge: 0.00010859816546970118\n"
     ]
    }
   ],
   "source": [
    "# Print the mean RMSE scores for Lasso and Ridge\n",
    "print(\"Mean RMSE for Lasso:\", mean_lasso_rmse)\n",
    "print(\"Mean RMSE for Ridge:\", mean_ridge_rmse)"
   ]
  },
  {
   "cell_type": "code",
   "execution_count": 133,
   "id": "b3449823",
   "metadata": {},
   "outputs": [
    {
     "name": "stdout",
     "output_type": "stream",
     "text": [
      "Ridge is better.\n"
     ]
    }
   ],
   "source": [
    "# determine which method is better\n",
    "if mean_lasso_rmse < mean_ridge_rmse:\n",
    "    print(\"Lasso is better.\")\n",
    "else:\n",
    "    print(\"Ridge is better.\")"
   ]
  },
  {
   "cell_type": "markdown",
   "id": "72442d3c",
   "metadata": {},
   "source": [
    "###  Neural Networks"
   ]
  },
  {
   "cell_type": "code",
   "execution_count": 134,
   "id": "ef7d8606",
   "metadata": {},
   "outputs": [],
   "source": [
    "# import necessary libraries\n",
    "import tensorflow as tf\n",
    "from tensorflow import keras\n",
    "from tensorflow.keras import layers\n",
    "import matplotlib.pyplot as plt"
   ]
  },
  {
   "cell_type": "code",
   "execution_count": 135,
   "id": "7dc5c221",
   "metadata": {},
   "outputs": [],
   "source": [
    "# Build the Neural Network model\n",
    "model = keras.Sequential()\n",
    "model.add(layers.Dense(units=64, activation='relu', input_dim=X_train_scaled.shape[1]))\n",
    "model.add(layers.Dense(units=32, activation='relu'))\n",
    "model.add(layers.Dense(units=16, activation='relu'))\n",
    "model.add(layers.Dense(units=1))  # Output layer for regression"
   ]
  },
  {
   "cell_type": "code",
   "execution_count": 136,
   "id": "f117824c",
   "metadata": {},
   "outputs": [],
   "source": [
    "# Compile the model\n",
    "model.compile(optimizer='adam', loss='mean_squared_error', metrics=['mae', 'mse'])"
   ]
  },
  {
   "cell_type": "code",
   "execution_count": 137,
   "id": "9b3f3952",
   "metadata": {},
   "outputs": [
    {
     "name": "stdout",
     "output_type": "stream",
     "text": [
      "Epoch 1/100\n",
      "2000/2000 [==============================] - 7s 2ms/step - loss: 14931839.0000 - mae: 2297.0461 - mse: 14931839.0000 - val_loss: 729684.0625 - val_mae: 678.8447 - val_mse: 729684.0625\n",
      "Epoch 2/100\n",
      "2000/2000 [==============================] - 3s 2ms/step - loss: 401392.4062 - mae: 489.5933 - mse: 401392.4062 - val_loss: 171742.2656 - val_mae: 321.8404 - val_mse: 171742.2656\n",
      "Epoch 3/100\n",
      "2000/2000 [==============================] - 3s 2ms/step - loss: 76031.4531 - mae: 200.5531 - mse: 76031.4531 - val_loss: 22697.8184 - val_mae: 112.5382 - val_mse: 22697.8184\n",
      "Epoch 4/100\n",
      "2000/2000 [==============================] - 3s 1ms/step - loss: 9024.5645 - mae: 63.6946 - mse: 9024.5645 - val_loss: 2522.0093 - val_mae: 33.7749 - val_mse: 2522.0093\n",
      "Epoch 5/100\n",
      "2000/2000 [==============================] - 3s 2ms/step - loss: 1188.6637 - mae: 21.5179 - mse: 1188.6637 - val_loss: 451.1657 - val_mae: 13.9555 - val_mse: 451.1657\n",
      "Epoch 6/100\n",
      "2000/2000 [==============================] - 3s 2ms/step - loss: 224.7531 - mae: 9.0907 - mse: 224.7531 - val_loss: 96.2718 - val_mae: 6.7105 - val_mse: 96.2718\n",
      "Epoch 7/100\n",
      "2000/2000 [==============================] - 3s 1ms/step - loss: 69.4439 - mae: 5.5126 - mse: 69.4439 - val_loss: 40.5471 - val_mae: 4.5620 - val_mse: 40.5471\n",
      "Epoch 8/100\n",
      "2000/2000 [==============================] - 3s 1ms/step - loss: 50.6920 - mae: 4.8569 - mse: 50.6920 - val_loss: 55.0667 - val_mae: 5.7513 - val_mse: 55.0667\n",
      "Epoch 9/100\n",
      "2000/2000 [==============================] - 3s 1ms/step - loss: 35.4808 - mae: 4.1023 - mse: 35.4808 - val_loss: 12.4962 - val_mae: 2.4849 - val_mse: 12.4962\n",
      "Epoch 10/100\n",
      "2000/2000 [==============================] - 3s 2ms/step - loss: 26.3249 - mae: 3.6649 - mse: 26.3249 - val_loss: 8.5032 - val_mae: 2.1112 - val_mse: 8.5032\n",
      "Epoch 11/100\n",
      "2000/2000 [==============================] - 3s 2ms/step - loss: 40.6132 - mae: 3.9423 - mse: 40.6132 - val_loss: 6.1866 - val_mae: 1.8456 - val_mse: 6.1866\n",
      "Epoch 12/100\n",
      "2000/2000 [==============================] - 3s 2ms/step - loss: 23.2744 - mae: 3.2115 - mse: 23.2744 - val_loss: 62.8795 - val_mae: 6.3596 - val_mse: 62.8795\n",
      "Epoch 13/100\n",
      "2000/2000 [==============================] - 3s 1ms/step - loss: 28.5718 - mae: 3.0810 - mse: 28.5718 - val_loss: 5.6655 - val_mae: 1.8441 - val_mse: 5.6655\n",
      "Epoch 14/100\n",
      "2000/2000 [==============================] - 3s 2ms/step - loss: 30.8666 - mae: 3.4803 - mse: 30.8666 - val_loss: 6.2324 - val_mae: 1.9825 - val_mse: 6.2324\n",
      "Epoch 15/100\n",
      "2000/2000 [==============================] - 3s 2ms/step - loss: 27.5153 - mae: 3.0722 - mse: 27.5153 - val_loss: 4.0877 - val_mae: 1.5497 - val_mse: 4.0877\n",
      "Epoch 16/100\n",
      "2000/2000 [==============================] - 3s 2ms/step - loss: 37.5970 - mae: 3.2788 - mse: 37.5970 - val_loss: 3.0861 - val_mae: 1.3262 - val_mse: 3.0861\n",
      "Epoch 17/100\n",
      "2000/2000 [==============================] - 3s 2ms/step - loss: 34.6953 - mae: 3.5092 - mse: 34.6953 - val_loss: 1.6393 - val_mae: 0.9154 - val_mse: 1.6393\n",
      "Epoch 18/100\n",
      "2000/2000 [==============================] - 3s 2ms/step - loss: 21.8773 - mae: 2.8653 - mse: 21.8773 - val_loss: 57.9199 - val_mae: 6.1555 - val_mse: 57.9199\n",
      "Epoch 19/100\n",
      "2000/2000 [==============================] - 3s 2ms/step - loss: 26.5725 - mae: 3.2853 - mse: 26.5725 - val_loss: 0.9684 - val_mae: 0.6349 - val_mse: 0.9684\n",
      "Epoch 20/100\n",
      "2000/2000 [==============================] - 3s 2ms/step - loss: 31.8514 - mae: 2.6182 - mse: 31.8514 - val_loss: 10.0999 - val_mae: 2.5322 - val_mse: 10.0999\n",
      "Epoch 21/100\n",
      "2000/2000 [==============================] - 3s 2ms/step - loss: 25.9134 - mae: 3.1902 - mse: 25.9134 - val_loss: 2.6841 - val_mae: 1.2944 - val_mse: 2.6841\n",
      "Epoch 22/100\n",
      "2000/2000 [==============================] - 4s 2ms/step - loss: 22.9617 - mae: 3.2215 - mse: 22.9617 - val_loss: 9.7533 - val_mae: 2.5072 - val_mse: 9.7533\n",
      "Epoch 23/100\n",
      "2000/2000 [==============================] - 4s 2ms/step - loss: 33.9155 - mae: 2.6671 - mse: 33.9155 - val_loss: 96.9675 - val_mae: 8.0927 - val_mse: 96.9675\n",
      "Epoch 24/100\n",
      "2000/2000 [==============================] - 3s 1ms/step - loss: 34.1817 - mae: 3.1435 - mse: 34.1817 - val_loss: 0.5351 - val_mae: 0.4390 - val_mse: 0.5351\n",
      "Epoch 25/100\n",
      "2000/2000 [==============================] - 3s 2ms/step - loss: 29.8189 - mae: 2.9242 - mse: 29.8189 - val_loss: 1.8344 - val_mae: 1.0145 - val_mse: 1.8344\n",
      "Epoch 26/100\n",
      "2000/2000 [==============================] - 4s 2ms/step - loss: 24.2816 - mae: 3.0634 - mse: 24.2816 - val_loss: 35.5792 - val_mae: 4.8127 - val_mse: 35.5792\n",
      "Epoch 27/100\n",
      "2000/2000 [==============================] - 4s 2ms/step - loss: 29.4291 - mae: 2.0377 - mse: 29.4291 - val_loss: 0.9141 - val_mae: 0.6756 - val_mse: 0.9141\n",
      "Epoch 28/100\n",
      "2000/2000 [==============================] - 3s 2ms/step - loss: 33.9610 - mae: 2.5720 - mse: 33.9610 - val_loss: 0.2774 - val_mae: 0.2181 - val_mse: 0.2774\n",
      "Epoch 29/100\n",
      "2000/2000 [==============================] - 4s 2ms/step - loss: 25.3198 - mae: 2.1737 - mse: 25.3198 - val_loss: 3.7161 - val_mae: 1.5405 - val_mse: 3.7161\n",
      "Epoch 30/100\n",
      "2000/2000 [==============================] - 3s 2ms/step - loss: 40.1897 - mae: 3.2822 - mse: 40.1897 - val_loss: 0.4809 - val_mae: 0.4258 - val_mse: 0.4809\n",
      "Epoch 31/100\n",
      "2000/2000 [==============================] - 3s 2ms/step - loss: 22.5893 - mae: 2.4241 - mse: 22.5893 - val_loss: 1.2976 - val_mae: 0.8568 - val_mse: 1.2976\n",
      "Epoch 32/100\n",
      "2000/2000 [==============================] - 3s 2ms/step - loss: 32.7441 - mae: 1.6659 - mse: 32.7441 - val_loss: 2.3570 - val_mae: 1.1844 - val_mse: 2.3570\n",
      "Epoch 33/100\n",
      "2000/2000 [==============================] - 3s 2ms/step - loss: 34.0050 - mae: 3.0924 - mse: 34.0050 - val_loss: 0.2867 - val_mae: 0.2375 - val_mse: 0.2867\n",
      "Epoch 34/100\n",
      "2000/2000 [==============================] - 3s 2ms/step - loss: 21.4636 - mae: 2.8370 - mse: 21.4636 - val_loss: 1.0956 - val_mae: 0.7914 - val_mse: 1.0956\n",
      "Epoch 35/100\n",
      "2000/2000 [==============================] - 3s 2ms/step - loss: 20.3532 - mae: 2.6969 - mse: 20.3532 - val_loss: 43.2786 - val_mae: 5.3257 - val_mse: 43.2786\n",
      "Epoch 36/100\n",
      "2000/2000 [==============================] - 3s 2ms/step - loss: 27.5746 - mae: 2.3201 - mse: 27.5746 - val_loss: 1.8667 - val_mae: 1.0702 - val_mse: 1.8667\n",
      "Epoch 37/100\n",
      "2000/2000 [==============================] - 4s 2ms/step - loss: 32.5851 - mae: 3.4594 - mse: 32.5851 - val_loss: 241.7097 - val_mae: 12.5909 - val_mse: 241.7097\n",
      "Epoch 38/100\n",
      "2000/2000 [==============================] - 3s 2ms/step - loss: 26.3193 - mae: 2.8557 - mse: 26.3193 - val_loss: 3.1510 - val_mae: 1.4022 - val_mse: 3.1510\n",
      "Epoch 39/100\n",
      "2000/2000 [==============================] - 3s 2ms/step - loss: 20.5805 - mae: 1.5361 - mse: 20.5805 - val_loss: 0.4729 - val_mae: 0.4776 - val_mse: 0.4729\n",
      "Epoch 40/100\n",
      "2000/2000 [==============================] - 3s 2ms/step - loss: 38.6512 - mae: 3.1715 - mse: 38.6512 - val_loss: 0.1674 - val_mae: 0.0939 - val_mse: 0.1674\n",
      "Epoch 41/100\n",
      "2000/2000 [==============================] - 3s 2ms/step - loss: 22.6515 - mae: 2.1285 - mse: 22.6515 - val_loss: 25.0697 - val_mae: 4.1434 - val_mse: 25.0697\n",
      "Epoch 42/100\n",
      "2000/2000 [==============================] - 3s 2ms/step - loss: 33.1162 - mae: 3.4696 - mse: 33.1162 - val_loss: 11.2915 - val_mae: 2.7052 - val_mse: 11.2915\n",
      "Epoch 43/100\n",
      "2000/2000 [==============================] - 3s 2ms/step - loss: 37.3196 - mae: 1.5509 - mse: 37.3196 - val_loss: 0.3795 - val_mae: 0.4034 - val_mse: 0.3795\n",
      "Epoch 44/100\n",
      "2000/2000 [==============================] - 3s 2ms/step - loss: 18.5262 - mae: 2.3905 - mse: 18.5262 - val_loss: 30.7800 - val_mae: 4.4822 - val_mse: 30.7800\n",
      "Epoch 45/100\n",
      "2000/2000 [==============================] - 3s 2ms/step - loss: 27.2405 - mae: 3.0334 - mse: 27.2405 - val_loss: 26.7263 - val_mae: 4.1659 - val_mse: 26.7263\n",
      "Epoch 46/100\n",
      "2000/2000 [==============================] - 3s 2ms/step - loss: 24.1160 - mae: 3.0432 - mse: 24.1160 - val_loss: 0.9616 - val_mae: 0.7531 - val_mse: 0.9616\n",
      "Epoch 47/100\n",
      "2000/2000 [==============================] - 3s 2ms/step - loss: 29.8934 - mae: 3.2852 - mse: 29.8934 - val_loss: 6.8904 - val_mae: 2.1137 - val_mse: 6.8904\n",
      "Epoch 48/100\n"
     ]
    },
    {
     "name": "stdout",
     "output_type": "stream",
     "text": [
      "2000/2000 [==============================] - 3s 1ms/step - loss: 42.1604 - mae: 2.6929 - mse: 42.1604 - val_loss: 42.9155 - val_mae: 5.3114 - val_mse: 42.9155\n",
      "Epoch 49/100\n",
      "2000/2000 [==============================] - 3s 1ms/step - loss: 19.5047 - mae: 2.0354 - mse: 19.5047 - val_loss: 0.6979 - val_mae: 0.6143 - val_mse: 0.6979\n",
      "Epoch 50/100\n",
      "2000/2000 [==============================] - 3s 1ms/step - loss: 31.1626 - mae: 2.9850 - mse: 31.1626 - val_loss: 0.4753 - val_mae: 0.4938 - val_mse: 0.4753\n",
      "Epoch 51/100\n",
      "2000/2000 [==============================] - 3s 1ms/step - loss: 21.0210 - mae: 2.3299 - mse: 21.0210 - val_loss: 0.6756 - val_mae: 0.6217 - val_mse: 0.6756\n",
      "Epoch 52/100\n",
      "2000/2000 [==============================] - 3s 1ms/step - loss: 31.3424 - mae: 2.6849 - mse: 31.3424 - val_loss: 1.9095 - val_mae: 1.0918 - val_mse: 1.9095\n",
      "Epoch 53/100\n",
      "2000/2000 [==============================] - 3s 1ms/step - loss: 36.5072 - mae: 3.3591 - mse: 36.5072 - val_loss: 0.1584 - val_mae: 0.1850 - val_mse: 0.1584\n",
      "Epoch 54/100\n",
      "2000/2000 [==============================] - 3s 1ms/step - loss: 12.0465 - mae: 1.3545 - mse: 12.0465 - val_loss: 82.7095 - val_mae: 8.2279 - val_mse: 82.7095\n",
      "Epoch 55/100\n",
      "2000/2000 [==============================] - 3s 1ms/step - loss: 47.1417 - mae: 2.5023 - mse: 47.1417 - val_loss: 2.7559 - val_mae: 1.3136 - val_mse: 2.7559\n",
      "Epoch 56/100\n",
      "2000/2000 [==============================] - 3s 1ms/step - loss: 22.4224 - mae: 1.8280 - mse: 22.4224 - val_loss: 1.3017 - val_mae: 0.8905 - val_mse: 1.3017\n",
      "Epoch 57/100\n",
      "2000/2000 [==============================] - 3s 1ms/step - loss: 27.0426 - mae: 2.8911 - mse: 27.0426 - val_loss: 4.1274 - val_mae: 1.6309 - val_mse: 4.1274\n",
      "Epoch 58/100\n",
      "2000/2000 [==============================] - 3s 1ms/step - loss: 21.0028 - mae: 2.4211 - mse: 21.0028 - val_loss: 12.3192 - val_mae: 2.8325 - val_mse: 12.3192\n",
      "Epoch 59/100\n",
      "2000/2000 [==============================] - 3s 1ms/step - loss: 29.8626 - mae: 2.5795 - mse: 29.8626 - val_loss: 0.1093 - val_mae: 0.0774 - val_mse: 0.1093\n",
      "Epoch 60/100\n",
      "2000/2000 [==============================] - 3s 1ms/step - loss: 22.7897 - mae: 1.9366 - mse: 22.7897 - val_loss: 307.5630 - val_mae: 14.1465 - val_mse: 307.5630\n",
      "Epoch 61/100\n",
      "2000/2000 [==============================] - 3s 1ms/step - loss: 38.8719 - mae: 2.1423 - mse: 38.8719 - val_loss: 0.1057 - val_mae: 0.0936 - val_mse: 0.1057\n",
      "Epoch 62/100\n",
      "2000/2000 [==============================] - 3s 1ms/step - loss: 21.7222 - mae: 2.8365 - mse: 21.7222 - val_loss: 8.0687 - val_mae: 2.2738 - val_mse: 8.0687\n",
      "Epoch 63/100\n",
      "2000/2000 [==============================] - 3s 1ms/step - loss: 25.3116 - mae: 2.5632 - mse: 25.3116 - val_loss: 91.2637 - val_mae: 8.0275 - val_mse: 91.2637\n",
      "Epoch 64/100\n",
      "2000/2000 [==============================] - 3s 1ms/step - loss: 26.2750 - mae: 3.5048 - mse: 26.2750 - val_loss: 48.0422 - val_mae: 5.5710 - val_mse: 48.0422\n",
      "Epoch 65/100\n",
      "2000/2000 [==============================] - 3s 1ms/step - loss: 20.3311 - mae: 1.9882 - mse: 20.3311 - val_loss: 2.6026 - val_mae: 1.2875 - val_mse: 2.6026\n",
      "Epoch 66/100\n",
      "2000/2000 [==============================] - 3s 2ms/step - loss: 31.7290 - mae: 2.7832 - mse: 31.7290 - val_loss: 1.5423 - val_mae: 0.9839 - val_mse: 1.5423\n",
      "Epoch 67/100\n",
      "2000/2000 [==============================] - 3s 1ms/step - loss: 25.0447 - mae: 2.5461 - mse: 25.0447 - val_loss: 1.3121 - val_mae: 0.9129 - val_mse: 1.3121\n",
      "Epoch 68/100\n",
      "2000/2000 [==============================] - 3s 1ms/step - loss: 24.9997 - mae: 2.5948 - mse: 24.9997 - val_loss: 8.5328 - val_mae: 2.3402 - val_mse: 8.5328\n",
      "Epoch 69/100\n",
      "2000/2000 [==============================] - 3s 1ms/step - loss: 31.2079 - mae: 2.2987 - mse: 31.2079 - val_loss: 0.1105 - val_mae: 0.1219 - val_mse: 0.1105\n",
      "Epoch 70/100\n",
      "2000/2000 [==============================] - 3s 1ms/step - loss: 22.9388 - mae: 2.5244 - mse: 22.9388 - val_loss: 0.4590 - val_mae: 0.4954 - val_mse: 0.4590\n",
      "Epoch 71/100\n",
      "2000/2000 [==============================] - 3s 2ms/step - loss: 21.2619 - mae: 2.6796 - mse: 21.2619 - val_loss: 3.7461 - val_mae: 1.5471 - val_mse: 3.7461\n",
      "Epoch 72/100\n",
      "2000/2000 [==============================] - 3s 1ms/step - loss: 32.7574 - mae: 2.2517 - mse: 32.7574 - val_loss: 0.3251 - val_mae: 0.3923 - val_mse: 0.3251\n",
      "Epoch 73/100\n",
      "2000/2000 [==============================] - 3s 1ms/step - loss: 31.9805 - mae: 2.9564 - mse: 31.9805 - val_loss: 77.0737 - val_mae: 7.1467 - val_mse: 77.0737\n",
      "Epoch 74/100\n",
      "2000/2000 [==============================] - 3s 1ms/step - loss: 20.8380 - mae: 2.3622 - mse: 20.8380 - val_loss: 365.3356 - val_mae: 15.6578 - val_mse: 365.3356\n",
      "Epoch 75/100\n",
      "2000/2000 [==============================] - 3s 1ms/step - loss: 36.3464 - mae: 2.9357 - mse: 36.3464 - val_loss: 6.1128 - val_mae: 1.9847 - val_mse: 6.1128\n",
      "Epoch 76/100\n",
      "2000/2000 [==============================] - 3s 1ms/step - loss: 15.3852 - mae: 1.4325 - mse: 15.3852 - val_loss: 0.1146 - val_mae: 0.1529 - val_mse: 0.1146\n",
      "Epoch 77/100\n",
      "2000/2000 [==============================] - 3s 1ms/step - loss: 33.6727 - mae: 2.4422 - mse: 33.6727 - val_loss: 3.1651 - val_mae: 1.4232 - val_mse: 3.1651\n",
      "Epoch 78/100\n",
      "2000/2000 [==============================] - 3s 1ms/step - loss: 22.1307 - mae: 1.3064 - mse: 22.1307 - val_loss: 0.1672 - val_mae: 0.2354 - val_mse: 0.1672\n",
      "Epoch 79/100\n",
      "2000/2000 [==============================] - 3s 1ms/step - loss: 26.6340 - mae: 3.1130 - mse: 26.6340 - val_loss: 11.4603 - val_mae: 2.7484 - val_mse: 11.4603\n",
      "Epoch 80/100\n",
      "2000/2000 [==============================] - 3s 1ms/step - loss: 27.4617 - mae: 3.1880 - mse: 27.4617 - val_loss: 42.8438 - val_mae: 5.3106 - val_mse: 42.8438\n",
      "Epoch 81/100\n",
      "2000/2000 [==============================] - 3s 1ms/step - loss: 19.9360 - mae: 2.1420 - mse: 19.9360 - val_loss: 0.7903 - val_mae: 0.6877 - val_mse: 0.7903\n",
      "Epoch 82/100\n",
      "2000/2000 [==============================] - 3s 1ms/step - loss: 38.5466 - mae: 2.5659 - mse: 38.5466 - val_loss: 0.1057 - val_mae: 0.1317 - val_mse: 0.1057\n",
      "Epoch 83/100\n",
      "2000/2000 [==============================] - 3s 1ms/step - loss: 26.7611 - mae: 2.0699 - mse: 26.7611 - val_loss: 17.0668 - val_mae: 3.3361 - val_mse: 17.0668\n",
      "Epoch 84/100\n",
      "2000/2000 [==============================] - 3s 1ms/step - loss: 20.2241 - mae: 2.6343 - mse: 20.2241 - val_loss: 53.4943 - val_mae: 6.2415 - val_mse: 53.4943\n",
      "Epoch 85/100\n",
      "2000/2000 [==============================] - 3s 1ms/step - loss: 24.4195 - mae: 3.1617 - mse: 24.4195 - val_loss: 2.4879 - val_mae: 1.2818 - val_mse: 2.4879\n",
      "Epoch 86/100\n",
      "2000/2000 [==============================] - 3s 2ms/step - loss: 26.4497 - mae: 2.2290 - mse: 26.4497 - val_loss: 73.7528 - val_mae: 7.1251 - val_mse: 73.7528\n",
      "Epoch 87/100\n",
      "2000/2000 [==============================] - 3s 2ms/step - loss: 34.9775 - mae: 3.1594 - mse: 34.9775 - val_loss: 0.0813 - val_mae: 0.0344 - val_mse: 0.0813\n",
      "Epoch 88/100\n",
      "2000/2000 [==============================] - 3s 2ms/step - loss: 15.8965 - mae: 1.6087 - mse: 15.8965 - val_loss: 0.4038 - val_mae: 0.4811 - val_mse: 0.4038\n",
      "Epoch 89/100\n",
      "2000/2000 [==============================] - 3s 2ms/step - loss: 24.9497 - mae: 2.3101 - mse: 24.9497 - val_loss: 0.0733 - val_mae: 0.0446 - val_mse: 0.0733\n",
      "Epoch 90/100\n",
      "2000/2000 [==============================] - 3s 2ms/step - loss: 27.1348 - mae: 2.7980 - mse: 27.1348 - val_loss: 0.1582 - val_mae: 0.2538 - val_mse: 0.1582\n",
      "Epoch 91/100\n",
      "2000/2000 [==============================] - 3s 2ms/step - loss: 21.9429 - mae: 2.7204 - mse: 21.9429 - val_loss: 1.0458 - val_mae: 0.8020 - val_mse: 1.0458\n",
      "Epoch 92/100\n",
      "2000/2000 [==============================] - 3s 2ms/step - loss: 33.7718 - mae: 2.5342 - mse: 33.7718 - val_loss: 1.4732 - val_mae: 0.9764 - val_mse: 1.4732\n",
      "Epoch 93/100\n",
      "2000/2000 [==============================] - 3s 2ms/step - loss: 36.1087 - mae: 2.1386 - mse: 36.1087 - val_loss: 0.0707 - val_mae: 0.0695 - val_mse: 0.0707\n",
      "Epoch 94/100\n",
      "2000/2000 [==============================] - 3s 2ms/step - loss: 18.3832 - mae: 1.6455 - mse: 18.3832 - val_loss: 0.0682 - val_mae: 0.0259 - val_mse: 0.0682\n",
      "Epoch 95/100\n",
      "2000/2000 [==============================] - 3s 2ms/step - loss: 33.5313 - mae: 2.0537 - mse: 33.5313 - val_loss: 0.0703 - val_mae: 0.0520 - val_mse: 0.0703\n",
      "Epoch 96/100\n"
     ]
    },
    {
     "name": "stdout",
     "output_type": "stream",
     "text": [
      "2000/2000 [==============================] - 3s 1ms/step - loss: 30.7803 - mae: 2.6511 - mse: 30.7803 - val_loss: 4.1806 - val_mae: 1.6484 - val_mse: 4.1806\n",
      "Epoch 97/100\n",
      "2000/2000 [==============================] - 3s 1ms/step - loss: 12.9816 - mae: 1.4395 - mse: 12.9816 - val_loss: 26.4725 - val_mae: 4.1442 - val_mse: 26.4725\n",
      "Epoch 98/100\n",
      "2000/2000 [==============================] - 3s 1ms/step - loss: 29.1150 - mae: 3.2851 - mse: 29.1150 - val_loss: 0.1639 - val_mae: 0.2667 - val_mse: 0.1639\n",
      "Epoch 99/100\n",
      "2000/2000 [==============================] - 3s 1ms/step - loss: 17.8656 - mae: 2.1930 - mse: 17.8656 - val_loss: 31.1098 - val_mae: 4.5561 - val_mse: 31.1098\n",
      "Epoch 100/100\n",
      "2000/2000 [==============================] - 3s 1ms/step - loss: 30.4569 - mae: 2.6374 - mse: 30.4569 - val_loss: 10.9163 - val_mae: 2.6734 - val_mse: 10.9163\n"
     ]
    }
   ],
   "source": [
    "# Train the model\n",
    "history = model.fit(X_train_scaled, y_train, epochs=100, batch_size=32, validation_split=0.2)"
   ]
  },
  {
   "cell_type": "code",
   "execution_count": 149,
   "id": "0ceb532f",
   "metadata": {},
   "outputs": [
    {
     "name": "stdout",
     "output_type": "stream",
     "text": [
      "625/625 [==============================] - 4s 2ms/step\n"
     ]
    }
   ],
   "source": [
    "# Evaluate the model on the test set\n",
    "nn_predictions = model.predict(X_test_scaled)\n",
    "nn_mse = mean_squared_error(y_test, nn_predictions)\n",
    "nn_rmse = np.sqrt(nn_mse)\n",
    "nn_mae = mean_absolute_error(y_test, nn_predictions)\n",
    "nn_r2 = r2_score(y_test, nn_predictions)"
   ]
  },
  {
   "cell_type": "code",
   "execution_count": 150,
   "id": "d510e383",
   "metadata": {},
   "outputs": [
    {
     "name": "stdout",
     "output_type": "stream",
     "text": [
      "Neural Network Regression:\n",
      "Mean Squared Error: 10.749378047964202\n",
      "Root Mean Squared Error: 3.278624413982822\n",
      "Mean Absolute Error: 2.651209126464846\n",
      "R-squared: 0.9999987574495646\n"
     ]
    }
   ],
   "source": [
    "# Print the evaluation metrics for the neural network\n",
    "print(\"Neural Network Regression:\")\n",
    "print(\"Mean Squared Error:\", nn_mse)\n",
    "print(\"Root Mean Squared Error:\", nn_rmse)\n",
    "print(\"Mean Absolute Error:\", nn_mae)\n",
    "print(\"R-squared:\", nn_r2)"
   ]
  },
  {
   "cell_type": "code",
   "execution_count": 151,
   "id": "31e9b6ce",
   "metadata": {},
   "outputs": [
    {
     "data": {
      "image/png": "[encoded data removed]",
      "text/plain": [
       "<Figure size 640x480 with 1 Axes>"
      ]
     },
     "metadata": {},
     "output_type": "display_data"
    }
   ],
   "source": [
    "# Plot training history\n",
    "plt.plot(history.history['loss'], label='Training Loss')\n",
    "plt.plot(history.history['val_loss'], label='Validation Loss')\n",
    "plt.xlabel('Epoch')\n",
    "plt.ylabel('Loss')\n",
    "plt.legend()\n",
    "plt.savefig('neural_network_training_history.png')\n",
    "plt.show()"
   ]
  },
  {
   "cell_type": "markdown",
   "id": "ad509150",
   "metadata": {},
   "source": [
    "## 4. Model evaluation"
   ]
  },
  {
   "cell_type": "code",
   "execution_count": 157,
   "id": "61a3ef5f",
   "metadata": {},
   "outputs": [],
   "source": [
    "# import necessary libraries\n",
    "import openpyxl\n",
    "from openpyxl import Workbook"
   ]
  },
  {
   "cell_type": "code",
   "execution_count": 158,
   "id": "86ead5c3",
   "metadata": {},
   "outputs": [],
   "source": [
    "# Create a new workbook\n",
    "workbook = Workbook()\n",
    "sheet = workbook.active\n",
    "sheet.title = 'Model Metrics'"
   ]
  },
  {
   "cell_type": "code",
   "execution_count": 159,
   "id": "49306e4d",
   "metadata": {},
   "outputs": [],
   "source": [
    "# Define the metrics for each model\n",
    "model_metrics = [\n",
    "    (\"Linear Regression\", lr_mse, lr_rmse, lr_mae, lr_r2),\n",
    "    (\"Random Forest\", rf_mse, rf_rmse, rf_mae, rf_r2),\n",
    "    (\"Gradient Boosting\", gb_mse, gb_rmse, gb_mae, gb_r2),\n",
    "    (\"Support Vector Regression\",svr_mse, svr_rmse, svr_mae, svr_r2),\n",
    "    (\"Decision Trees\", dt_mse, dt_rmse, dt_mae, dt_r2),\n",
    "    (\"Lasso Regression\", lasso_mse, lasso_rmse, lasso_mae, lasso_r2),\n",
    "    (\"Ridge Regression\", ridge_mse, ridge_rmse, ridge_mae, ridge_r2),\n",
    "    (\"Neural Network\", nn_mse, nn_rmse, nn_mae, nn_r2)\n",
    "]"
   ]
  },
  {
   "cell_type": "code",
   "execution_count": 160,
   "id": "3bc59a8e",
   "metadata": {},
   "outputs": [],
   "source": [
    "# Add headers\n",
    "header = [\"Model\", \"MSE\", \"RMSE\", \"MAE\", \"R-squared\"]\n",
    "sheet.append(header)"
   ]
  },
  {
   "cell_type": "code",
   "execution_count": 161,
   "id": "058b02fe",
   "metadata": {},
   "outputs": [],
   "source": [
    "# Add model metrics to the sheet\n",
    "for model, mse, rmse, mae, r2 in model_metrics:\n",
    "    sheet.append([model, mse, rmse, mae, r2])"
   ]
  },
  {
   "cell_type": "code",
   "execution_count": 162,
   "id": "fe952191",
   "metadata": {},
   "outputs": [
    {
     "name": "stdout",
     "output_type": "stream",
     "text": [
      "Excel workbook saved.\n"
     ]
    }
   ],
   "source": [
    "# Save the workbook\n",
    "workbook.save('model_metrics.xlsx')\n",
    "print(\"Excel workbook saved.\")"
   ]
  },
  {
   "cell_type": "code",
   "execution_count": null,
   "id": "89126b5c",
   "metadata": {},
   "outputs": [],
   "source": []
  }
 ],
 "metadata": {
  "kernelspec": {
   "display_name": "Python 3 (ipykernel)",
   "language": "python",
   "name": "python3"
  },
  "language_info": {
   "codemirror_mode": {
    "name": "ipython",
    "version": 3
   },
   "file_extension": ".py",
   "mimetype": "text/x-python",
   "name": "python",
   "nbconvert_exporter": "python",
   "pygments_lexer": "ipython3",
   "version": "3.10.9"
  }
 },
 "nbformat": 4,
 "nbformat_minor": 5
}
